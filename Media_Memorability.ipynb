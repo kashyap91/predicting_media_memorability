{
  "nbformat": 4,
  "nbformat_minor": 0,
  "metadata": {
    "colab": {
      "name": "Media_Memorability.ipynb",
      "version": "0.3.2",
      "provenance": [],
      "collapsed_sections": [
        "Bq75qLLrYB_q",
        "ahNdUl_e3CX7",
        "K6GviM0vvFiZ",
        "bBZ0bX3bZzqg",
        "bHbgASz36vQp",
        "QicpQsEq57YQ",
        "kBNEHWoBqwxa",
        "i0VYxrChrhBG",
        "M3s-F-xYklKw",
        "CV_sw-76vEPd",
        "lBNiWmSexlVI",
        "IcuOg7CMzVmP",
        "dr8CgWg01l-h",
        "F96aVAiU3Gtl",
        "ilcKFafW2MO1",
        "TqQswPMP2Swt"
      ],
      "include_colab_link": true
    },
    "kernelspec": {
      "display_name": "Python 3",
      "language": "python",
      "name": "python3"
    },
    "accelerator": "GPU"
  },
  "cells": [
    {
      "cell_type": "markdown",
      "metadata": {
        "id": "view-in-github",
        "colab_type": "text"
      },
      "source": [
        "<a href=\"https://colab.research.google.com/github/kashyap91/Media-Memorability/blob/master/Media_Memorability.ipynb\" target=\"_parent\"><img src=\"https://colab.research.google.com/assets/colab-badge.svg\" alt=\"Open In Colab\"/></a>"
      ]
    },
    {
      "cell_type": "markdown",
      "metadata": {
        "id": "Bq75qLLrYB_q",
        "colab_type": "text"
      },
      "source": [
        "#Utilities"
      ]
    },
    {
      "cell_type": "code",
      "metadata": {
        "colab_type": "code",
        "id": "3mZ7BM-lGQiD",
        "outputId": "c85b7d5c-4072-4e71-aa8b-f1deed128450",
        "colab": {
          "base_uri": "https://localhost:8080/",
          "height": 189
        }
      },
      "source": [
        "#data import\n",
        "from google.colab import drive\n",
        "import os\n",
        "drive.mount('/content/drive/')\n",
        "os.chdir('/content/drive/My Drive/CA684ML/dev-set/')"
      ],
      "execution_count": 0,
      "outputs": [
        {
          "output_type": "stream",
          "text": [
            "Go to this URL in a browser: https://accounts.google.com/o/oauth2/auth?client_id=947318989803-6bn6qk8qdgf4n4g3pfee6491hc0brc4i.apps.googleusercontent.com&redirect_uri=urn%3Aietf%3Awg%3Aoauth%3A2.0%3Aoob&scope=email%20https%3A%2F%2Fwww.googleapis.com%2Fauth%2Fdocs.test%20https%3A%2F%2Fwww.googleapis.com%2Fauth%2Fdrive%20https%3A%2F%2Fwww.googleapis.com%2Fauth%2Fdrive.photos.readonly%20https%3A%2F%2Fwww.googleapis.com%2Fauth%2Fpeopleapi.readonly&response_type=code\n",
            "\n",
            "Enter your authorization code:\n",
            "··········\n",
            "Mounted at /content/drive/\n"
          ],
          "name": "stdout"
        }
      ]
    },
    {
      "cell_type": "code",
      "metadata": {
        "id": "dGEiJ_KLuiUH",
        "colab_type": "code",
        "outputId": "3cd0f87a-2fde-46fa-cd9d-a2e4b94b6b77",
        "colab": {
          "base_uri": "https://localhost:8080/",
          "height": 51
        }
      },
      "source": [
        "#importing required libraries\n",
        "import pandas as pd\n",
        "from keras import Sequential, layers, regularizers, optimizers\n",
        "import numpy as np\n",
        "from string import punctuation\n",
        "from numpy import array, asarray, zeros\n",
        "from keras.preprocessing.sequence import pad_sequences\n",
        "from keras.layers import Dense, Embedding, SpatialDropout1D, CuDNNLSTM, BatchNormalization\n",
        "from keras.layers import ReLU, Conv1D, MaxPooling1D, Dropout, LSTM, Bidirectional\n",
        "from collections import Counter\n",
        "from keras.initializers import Constant\n",
        "from keras.preprocessing.text import Tokenizer\n",
        "from sklearn.model_selection import train_test_split\n",
        "import matplotlib.pyplot as plt\n",
        "from keras import preprocessing\n",
        "import os\n",
        "import ast\n",
        "import nltk\n",
        "nltk.download('stopwords')\n",
        "from nltk.corpus import stopwords"
      ],
      "execution_count": 0,
      "outputs": [
        {
          "output_type": "stream",
          "text": [
            "[nltk_data] Downloading package stopwords to /root/nltk_data...\n",
            "[nltk_data]   Package stopwords is already up-to-date!\n"
          ],
          "name": "stdout"
        }
      ]
    },
    {
      "cell_type": "code",
      "metadata": {
        "id": "tRSy4Gs-2tHB",
        "colab_type": "code",
        "colab": {}
      },
      "source": [
        "# for reproducability\n",
        "from numpy.random import seed\n",
        "seed(1)\n",
        "from tensorflow import set_random_seed\n",
        "set_random_seed(1)\n",
        "seed_val = 7"
      ],
      "execution_count": 0,
      "outputs": []
    },
    {
      "cell_type": "code",
      "metadata": {
        "colab_type": "code",
        "id": "uTwlAhPUNwy0",
        "colab": {}
      },
      "source": [
        "#calculating spearmans score\n",
        "def Get_score(Y_pred,Y_true):\n",
        "    '''Calculate the Spearmann\"s correlation coefficient'''\n",
        "    Y_pred = np.squeeze(Y_pred)\n",
        "    Y_true = np.squeeze(Y_true)\n",
        "    if Y_pred.shape != Y_true.shape:\n",
        "        print('Input shapes don\\'t match!')\n",
        "    else:\n",
        "        if len(Y_pred.shape) == 1:\n",
        "            Res = pd.DataFrame({'Y_true':Y_true,'Y_pred':Y_pred})\n",
        "            score_mat = Res[['Y_true','Y_pred']].corr(method='spearman',min_periods=1)\n",
        "            print('The Spearman\\'s correlation coefficient is: %.3f' % score_mat.iloc[1][0])\n",
        "        else:\n",
        "            for ii in range(Y_pred.shape[1]):\n",
        "                Get_score(Y_pred[:,ii],Y_true[:,ii])"
      ],
      "execution_count": 0,
      "outputs": []
    },
    {
      "cell_type": "code",
      "metadata": {
        "id": "mIQ4AaQq3KM3",
        "colab_type": "code",
        "colab": {}
      },
      "source": [
        "# loading the ground truth values - these variables will be used across the 3 models\n",
        "label_path = './'\n",
        "labels=pd.read_csv(label_path+'dev-set_ground-truth.csv')"
      ],
      "execution_count": 0,
      "outputs": []
    },
    {
      "cell_type": "code",
      "metadata": {
        "id": "DLd94s2gon2K",
        "colab_type": "code",
        "colab": {}
      },
      "source": [
        "#function to read HMP files \n",
        "def read_HMP(fname):\n",
        "    \"\"\"Scan HMP(Histogram of Motion Patterns) features from file\"\"\"\n",
        "    with open(fname) as f:\n",
        "        for line in f:\n",
        "            pairs=line.split()\n",
        "            HMP_temp = { int(p.split(':')[0]) : float(p.split(':')[1]) for p in pairs}\n",
        "    # there are 6075 bins, fill zeros\n",
        "    HMP = np.zeros(6075)\n",
        "    for idx in HMP_temp.keys():\n",
        "        HMP[idx-1] = HMP_temp[idx]            \n",
        "    return HMP"
      ],
      "execution_count": 0,
      "outputs": []
    },
    {
      "cell_type": "code",
      "metadata": {
        "id": "LZoXPz0RotOc",
        "colab_type": "code",
        "colab": {}
      },
      "source": [
        "# reading in the data from G drive\n",
        "Feat_path = '/content/drive/My Drive/CA684ML/dev-set/'\n",
        "vid = labels.video.values\n",
        "Features_HMP = pd.DataFrame({'video': vid,'HMP': [read_HMP(Feat_path+'HMP'+'/'+os.path.splitext(item)[0]+'.txt') for item in vid],})"
      ],
      "execution_count": 0,
      "outputs": []
    },
    {
      "cell_type": "code",
      "metadata": {
        "id": "w7HunDsW0mKw",
        "colab_type": "code",
        "colab": {}
      },
      "source": [
        "#functions to read C3D data\n",
        "\n",
        "def read_C3D(fname):\n",
        "    \"\"\"Scan vectors from file\"\"\"\n",
        "    with open(fname) as f:\n",
        "        for line in f:\n",
        "            C3D =[float(item) for item in line.split()] # convert to float type, using default separator\n",
        "    return C3D\n",
        "\n",
        "\n",
        "def vname2ID(vnames):\n",
        "    \"\"\"Parse video digital id from its name\n",
        "    vnames: a list contains file names\"\"\"\n",
        "    vid = [ os.path.splitext(vn)[0]+'.webm' for vn in vnames]\n",
        "    return vid"
      ],
      "execution_count": 0,
      "outputs": []
    },
    {
      "cell_type": "code",
      "metadata": {
        "id": "gjkpBolN0whi",
        "colab_type": "code",
        "colab": {}
      },
      "source": [
        "# # loading C3D data from the Gdrive directory \n",
        "\n",
        "# Feat_path = '/content/drive/My Drive/CA684ML/dev-set/'\n",
        "# vid = labels.video.values\n",
        "\n",
        "# Features_c3d = pd.DataFrame({'video': vid,\n",
        "#                    'C3D': [read_C3D(Feat_path+'C3D'+'/'+os.path.splitext(item)[0]+'.txt') for item in vid],\n",
        "#                        })"
      ],
      "execution_count": 0,
      "outputs": []
    },
    {
      "cell_type": "code",
      "metadata": {
        "id": "rwxNO7mG04EU",
        "colab_type": "code",
        "colab": {}
      },
      "source": [
        "#since the above step takes a long time to run - writing dataframe as a csv\n",
        "#Features_c3d.to_csv('C3dFeatures.csv', sep = '`', header = True)"
      ],
      "execution_count": 0,
      "outputs": []
    },
    {
      "cell_type": "code",
      "metadata": {
        "id": "IHsG3emh0zbz",
        "colab_type": "code",
        "outputId": "e11e9d41-9f1a-47aa-ccd3-6c5a5cd367aa",
        "colab": {
          "base_uri": "https://localhost:8080/",
          "height": 204
        }
      },
      "source": [
        "# importing c3d features from the csv\n",
        "feature_path = '/content/drive/My Drive/CA684ML/dev-set/'\n",
        "Features_c3d=pd.read_csv(feature_path+'C3dFeatures.csv', sep = '`',header=0, usecols=[\"video\", \"C3D\"], converters={1:ast.literal_eval})\n",
        "Features_c3d.head()"
      ],
      "execution_count": 0,
      "outputs": [
        {
          "output_type": "execute_result",
          "data": {
            "text/html": [
              "<div>\n",
              "<style scoped>\n",
              "    .dataframe tbody tr th:only-of-type {\n",
              "        vertical-align: middle;\n",
              "    }\n",
              "\n",
              "    .dataframe tbody tr th {\n",
              "        vertical-align: top;\n",
              "    }\n",
              "\n",
              "    .dataframe thead th {\n",
              "        text-align: right;\n",
              "    }\n",
              "</style>\n",
              "<table border=\"1\" class=\"dataframe\">\n",
              "  <thead>\n",
              "    <tr style=\"text-align: right;\">\n",
              "      <th></th>\n",
              "      <th>C3D</th>\n",
              "      <th>video</th>\n",
              "    </tr>\n",
              "  </thead>\n",
              "  <tbody>\n",
              "    <tr>\n",
              "      <th>0</th>\n",
              "      <td>[0.02024942, 0.0015778, 0.00082625, 0.00094509...</td>\n",
              "      <td>video3.webm</td>\n",
              "    </tr>\n",
              "    <tr>\n",
              "      <th>1</th>\n",
              "      <td>[0.000118, 0.00089075, 0.00018769, 4.543e-05, ...</td>\n",
              "      <td>video4.webm</td>\n",
              "    </tr>\n",
              "    <tr>\n",
              "      <th>2</th>\n",
              "      <td>[0.01176522, 0.00074577, 0.00078353, 1.328e-05...</td>\n",
              "      <td>video6.webm</td>\n",
              "    </tr>\n",
              "    <tr>\n",
              "      <th>3</th>\n",
              "      <td>[0.00022343, 0.00016499, 7.35e-06, 1.615e-05, ...</td>\n",
              "      <td>video8.webm</td>\n",
              "    </tr>\n",
              "    <tr>\n",
              "      <th>4</th>\n",
              "      <td>[9.006e-05, 0.00061494, 0.00343634, 0.00128092...</td>\n",
              "      <td>video10.webm</td>\n",
              "    </tr>\n",
              "  </tbody>\n",
              "</table>\n",
              "</div>"
            ],
            "text/plain": [
              "                                                 C3D         video\n",
              "0  [0.02024942, 0.0015778, 0.00082625, 0.00094509...   video3.webm\n",
              "1  [0.000118, 0.00089075, 0.00018769, 4.543e-05, ...   video4.webm\n",
              "2  [0.01176522, 0.00074577, 0.00078353, 1.328e-05...   video6.webm\n",
              "3  [0.00022343, 0.00016499, 7.35e-06, 1.615e-05, ...   video8.webm\n",
              "4  [9.006e-05, 0.00061494, 0.00343634, 0.00128092...  video10.webm"
            ]
          },
          "metadata": {
            "tags": []
          },
          "execution_count": 10
        }
      ]
    },
    {
      "cell_type": "code",
      "metadata": {
        "colab_type": "code",
        "id": "CgRN5BdEDJsu",
        "colab": {}
      },
      "source": [
        "# loading the labels and captions\n",
        "def read_caps(fname):\n",
        "    \"\"\"Load the captions into a dataframe\"\"\"\n",
        "    vn = []\n",
        "    cap = []\n",
        "    df = pd.DataFrame();\n",
        "    with open(fname) as f:\n",
        "        for line in f:\n",
        "            pairs = line.split()\n",
        "            vn.append(pairs[0])\n",
        "            cap.append(pairs[1])\n",
        "        df['video']=vn\n",
        "        df['caption']=cap\n",
        "    return df"
      ],
      "execution_count": 0,
      "outputs": []
    },
    {
      "cell_type": "code",
      "metadata": {
        "id": "-LWZq9ULCcqW",
        "colab_type": "code",
        "colab": {}
      },
      "source": [
        "# load the captions\n",
        "cap_path = './dev-set_video-captions.txt'\n",
        "df_cap=read_caps(cap_path)"
      ],
      "execution_count": 0,
      "outputs": []
    },
    {
      "cell_type": "markdown",
      "metadata": {
        "id": "ahNdUl_e3CX7",
        "colab_type": "text"
      },
      "source": [
        "\n",
        "\n",
        "---\n",
        "\n",
        "---\n",
        "\n",
        "\n",
        "\n",
        "# **Short-Term Memorability (Dev)** \n",
        "\n",
        "\n",
        "---\n",
        "\n",
        "The following cells are to predict the short-term memorability of the dataset.\n",
        "Output from three models, using three different features, are combined to arrive at the short-term memorability score. The three models are as follows - \n",
        "\n",
        "\n",
        "\n",
        "1.   HMP features with Keras NN model\n",
        "2.   C3D features with Keras NN model\n",
        "3.   Captions - processed with GloVe and used in a Keras NN\n",
        "\n",
        "\n",
        "\n",
        "\n"
      ]
    },
    {
      "cell_type": "markdown",
      "metadata": {
        "id": "K6GviM0vvFiZ",
        "colab_type": "text"
      },
      "source": [
        "##HMP Features - DevTest\n",
        "\n"
      ]
    },
    {
      "cell_type": "code",
      "metadata": {
        "id": "Wt7a0HlP2xMI",
        "colab_type": "code",
        "colab": {}
      },
      "source": [
        "#creating training and validation sets\n",
        "X_HMP = np.stack(Features_HMP['HMP'].values)\n",
        "Y = labels[['short-term_memorability']].values\n",
        "\n",
        "X_train_HMP, X_val_HMP, Y_train, Y_val = train_test_split(X_HMP,Y, test_size=0.2, random_state=seed_val)"
      ],
      "execution_count": 0,
      "outputs": []
    },
    {
      "cell_type": "code",
      "metadata": {
        "id": "Zce_mWAMRuco",
        "colab_type": "code",
        "outputId": "6106a14d-d033-436c-f03a-dc41142c8b21",
        "colab": {
          "base_uri": "https://localhost:8080/",
          "height": 51
        }
      },
      "source": [
        "print(\"X_train_HMP = %.f\" % len(X_train_HMP))\n",
        "print(\"X_val_HMP = %.f\" % len(X_val_HMP))"
      ],
      "execution_count": 0,
      "outputs": [
        {
          "output_type": "stream",
          "text": [
            "X_train_HMP = 4800\n",
            "X_val_HMP = 1200\n"
          ],
          "name": "stdout"
        }
      ]
    },
    {
      "cell_type": "code",
      "metadata": {
        "id": "Z8j5O2_64jiZ",
        "colab_type": "code",
        "outputId": "123fa829-a8ab-4d1e-df44-c96593a03885",
        "colab": {
          "base_uri": "https://localhost:8080/",
          "height": 496
        }
      },
      "source": [
        "#configuring the Keras model\n",
        "model_HMP = Sequential()\n",
        "model_HMP.add(layers.Dense(500,activation='selu',kernel_regularizer=None,input_shape=(X_HMP.shape[1],)))\n",
        "model_HMP.add(layers.Dropout(0.2))\n",
        "model_HMP.add(layers.Dense(500,activation='selu',kernel_regularizer=None))\n",
        "model_HMP.add(layers.Dropout(0.1))\n",
        "model_HMP.add(layers.Dense(500,activation='selu',kernel_regularizer=None))\n",
        "model_HMP.add(layers.Dropout(0.1))\n",
        "model_HMP.add(layers.Dense(1,activation='selu'))\n",
        "model_HMP.summary()"
      ],
      "execution_count": 0,
      "outputs": [
        {
          "output_type": "stream",
          "text": [
            "WARNING:tensorflow:From /usr/local/lib/python3.6/dist-packages/tensorflow/python/framework/op_def_library.py:263: colocate_with (from tensorflow.python.framework.ops) is deprecated and will be removed in a future version.\n",
            "Instructions for updating:\n",
            "Colocations handled automatically by placer.\n",
            "WARNING:tensorflow:From /usr/local/lib/python3.6/dist-packages/keras/backend/tensorflow_backend.py:3445: calling dropout (from tensorflow.python.ops.nn_ops) with keep_prob is deprecated and will be removed in a future version.\n",
            "Instructions for updating:\n",
            "Please use `rate` instead of `keep_prob`. Rate should be set to `rate = 1 - keep_prob`.\n",
            "_________________________________________________________________\n",
            "Layer (type)                 Output Shape              Param #   \n",
            "=================================================================\n",
            "dense_1 (Dense)              (None, 500)               3038000   \n",
            "_________________________________________________________________\n",
            "dropout_1 (Dropout)          (None, 500)               0         \n",
            "_________________________________________________________________\n",
            "dense_2 (Dense)              (None, 500)               250500    \n",
            "_________________________________________________________________\n",
            "dropout_2 (Dropout)          (None, 500)               0         \n",
            "_________________________________________________________________\n",
            "dense_3 (Dense)              (None, 500)               250500    \n",
            "_________________________________________________________________\n",
            "dropout_3 (Dropout)          (None, 500)               0         \n",
            "_________________________________________________________________\n",
            "dense_4 (Dense)              (None, 1)                 501       \n",
            "=================================================================\n",
            "Total params: 3,539,501\n",
            "Trainable params: 3,539,501\n",
            "Non-trainable params: 0\n",
            "_________________________________________________________________\n"
          ],
          "name": "stdout"
        }
      ]
    },
    {
      "cell_type": "code",
      "metadata": {
        "id": "0MWphl3s4ujl",
        "colab_type": "code",
        "colab": {}
      },
      "source": [
        "#compiling and fitting the model\n",
        "model_HMP.compile(optimizer='rmsprop',loss=['mae'])\n",
        "history_HMP=model_HMP.fit(x=X_train_HMP,y=Y_train,batch_size=128,epochs=50, validation_data=(X_val_HMP,Y_val), shuffle=True,verbose=False)"
      ],
      "execution_count": 0,
      "outputs": []
    },
    {
      "cell_type": "code",
      "metadata": {
        "id": "SDBaH-mO5yR-",
        "colab_type": "code",
        "outputId": "1f3d2aff-50d4-4b93-bd46-f054bf9c475d",
        "colab": {
          "base_uri": "https://localhost:8080/",
          "height": 295
        }
      },
      "source": [
        "#visualising loss\n",
        "\n",
        "loss = history_HMP.history['loss']\n",
        "val_loss = history_HMP.history['val_loss']\n",
        "\n",
        "epochs = range(1,len(loss)+1)\n",
        "\n",
        "plt.figure()\n",
        "plt.plot(epochs,loss,'bo',label='Training loss')\n",
        "plt.plot(epochs,val_loss,'b',label='Validation loss')\n",
        "plt.title('Training and validation loss')\n",
        "plt.xlabel('Epochs')\n",
        "plt.ylabel('Loss')\n",
        "plt.legend()\n",
        "plt.show()"
      ],
      "execution_count": 0,
      "outputs": [
        {
          "output_type": "display_data",
          "data": {
            "image/png": "[encoded data removed]",
            "text/plain": [
              "<Figure size 432x288 with 1 Axes>"
            ]
          },
          "metadata": {
            "tags": []
          }
        }
      ]
    },
    {
      "cell_type": "code",
      "metadata": {
        "id": "ELQ81vST6Drn",
        "colab_type": "code",
        "colab": {}
      },
      "source": [
        "#predicting the validation set\n",
        "Y_pred_val_HMP = model_HMP.predict(X_val_HMP)"
      ],
      "execution_count": 0,
      "outputs": []
    },
    {
      "cell_type": "code",
      "metadata": {
        "id": "jq-8Xhcy55b2",
        "colab_type": "code",
        "outputId": "e29356ba-8e8b-42b4-fd5b-d5f1e6ee4c02",
        "colab": {
          "base_uri": "https://localhost:8080/",
          "height": 51
        }
      },
      "source": [
        "print('Evaluation Scores')\n",
        "Get_score(Y_pred_val_HMP,Y_val)"
      ],
      "execution_count": 0,
      "outputs": [
        {
          "output_type": "stream",
          "text": [
            "Evaluation Scores\n",
            "The Spearman's correlation coefficient is: 0.277\n"
          ],
          "name": "stdout"
        }
      ]
    },
    {
      "cell_type": "markdown",
      "metadata": {
        "id": "bBZ0bX3bZzqg",
        "colab_type": "text"
      },
      "source": [
        "##C3D Features - DevTest"
      ]
    },
    {
      "cell_type": "code",
      "metadata": {
        "id": "FmwHV_pI0z-R",
        "colab_type": "code",
        "colab": {}
      },
      "source": [
        "#splitting the data into training and validation sets\n",
        "X_c3d = np.stack(Features_c3d.C3D.values)\n",
        "Y = labels[['short-term_memorability']].values\n",
        "\n",
        "X_train_c3d, X_val_c3d, Y_train, Y_val = train_test_split(X_c3d, Y, test_size = 0.2, random_state = seed_val)"
      ],
      "execution_count": 0,
      "outputs": []
    },
    {
      "cell_type": "code",
      "metadata": {
        "id": "TXR146cnb5sM",
        "colab_type": "code",
        "outputId": "1da4a19e-c024-4726-d6cb-8465b14f5721",
        "colab": {
          "base_uri": "https://localhost:8080/",
          "height": 51
        }
      },
      "source": [
        "print(\"X_train = %.f\" % len(X_train_c3d))\n",
        "print(\"X_val = %.f\" % len(X_val_c3d))"
      ],
      "execution_count": 0,
      "outputs": [
        {
          "output_type": "stream",
          "text": [
            "X_train = 4800\n",
            "X_val = 1200\n"
          ],
          "name": "stdout"
        }
      ]
    },
    {
      "cell_type": "code",
      "metadata": {
        "id": "uuw4xtb306a3",
        "colab_type": "code",
        "colab": {}
      },
      "source": [
        "#configuring the Keras model\n",
        "model_c3d = Sequential()\n",
        "model_c3d.add(layers.Dense(50,activation='relu',kernel_regularizer=None,input_shape=(X_c3d.shape[1],)))\n",
        "model_c3d.add(layers.Dropout(0.2))\n",
        "model_c3d.add(layers.Dense(25,activation='relu',kernel_regularizer=None))\n",
        "model_c3d.add(layers.Dropout(0.1))\n",
        "model_c3d.add(layers.Dense(10,activation='relu',kernel_regularizer=None))\n",
        "model_c3d.add(layers.Dropout(0.1))\n",
        "model_c3d.add(BatchNormalization())\n",
        "model_c3d.add(layers.Dense(1,activation='sigmoid'))"
      ],
      "execution_count": 0,
      "outputs": []
    },
    {
      "cell_type": "code",
      "metadata": {
        "id": "aCjNluTP07hJ",
        "colab_type": "code",
        "colab": {}
      },
      "source": [
        "#compiling the model and fitting the data\n",
        "model_c3d.compile(optimizer='Nadam',loss='binary_crossentropy',metrics=['acc'])\n",
        "history_c3d=model_c3d.fit(x=X_train_c3d,y=Y_train,epochs=25, validation_data=(X_val_c3d,Y_val),shuffle=True,verbose=False)"
      ],
      "execution_count": 0,
      "outputs": []
    },
    {
      "cell_type": "code",
      "metadata": {
        "id": "Zdw8S_wg0_FQ",
        "colab_type": "code",
        "outputId": "bcd921d6-cebc-459d-e47f-e072c655b106",
        "colab": {
          "base_uri": "https://localhost:8080/",
          "height": 295
        }
      },
      "source": [
        "#plotting loss\n",
        "loss = history_c3d.history['loss']\n",
        "val_loss = history_c3d.history['val_loss']\n",
        "\n",
        "epochs = range(1,len(loss)+1)\n",
        "\n",
        "plt.figure()\n",
        "plt.plot(epochs,loss,'bo',label='Training loss')\n",
        "plt.plot(epochs,val_loss,'b',label='Validation loss')\n",
        "plt.title('Training and validation loss')\n",
        "plt.xlabel('Epochs')\n",
        "plt.ylabel('Loss')\n",
        "plt.legend()\n",
        "plt.show()\n"
      ],
      "execution_count": 0,
      "outputs": [
        {
          "output_type": "display_data",
          "data": {
            "image/png": "[encoded data removed]",
            "text/plain": [
              "<Figure size 432x288 with 1 Axes>"
            ]
          },
          "metadata": {
            "tags": []
          }
        }
      ]
    },
    {
      "cell_type": "code",
      "metadata": {
        "id": "6pIzAk_g1B-A",
        "colab_type": "code",
        "colab": {}
      },
      "source": [
        "#predicting the validation set\n",
        "Y_pred_c3d = model_c3d.predict(X_val_c3d)"
      ],
      "execution_count": 0,
      "outputs": []
    },
    {
      "cell_type": "code",
      "metadata": {
        "id": "8gPYqTDmWors",
        "colab_type": "code",
        "outputId": "9142f595-b92f-4979-b4d2-636e5ec402ad",
        "colab": {
          "base_uri": "https://localhost:8080/",
          "height": 51
        }
      },
      "source": [
        "print('Evaluation Scores')\n",
        "Get_score(Y_pred_c3d,Y_val)"
      ],
      "execution_count": 0,
      "outputs": [
        {
          "output_type": "stream",
          "text": [
            "Evaluation Scores\n",
            "The Spearman's correlation coefficient is: 0.252\n"
          ],
          "name": "stdout"
        }
      ]
    },
    {
      "cell_type": "markdown",
      "metadata": {
        "id": "yYLEAeBr6hVZ",
        "colab_type": "text"
      },
      "source": [
        "##Caption Features - DevTest"
      ]
    },
    {
      "cell_type": "code",
      "metadata": {
        "id": "C5P3fqbss20z",
        "colab_type": "code",
        "colab": {}
      },
      "source": [
        "# basic cleaning of the text\n",
        "df_cap.caption = df_cap.caption.apply(lambda x: x.replace('-', ' '))\n",
        "df_cap.caption = df_cap.caption.apply(lambda x: ' '.join([item for item in x.split() if item not in stopwords.words(\"english\")]))"
      ],
      "execution_count": 0,
      "outputs": []
    },
    {
      "cell_type": "code",
      "metadata": {
        "id": "OO1ZpECjIQ6B",
        "colab_type": "code",
        "colab": {}
      },
      "source": [
        "#some more cleaning attempted - but found that word embedding is far superior\n",
        "\n",
        "\n",
        "# nltk.download('wordnet')\n",
        "# from textblob import Word\n",
        "# df_cap.caption = df_cap.caption.apply(lambda x: \" \".join([Word(word).lemmatize() for word in x.split()]))\n",
        "# from textblob import TextBlob\n",
        "# df_cap.caption = df_cap.caption.apply(lambda x: str(TextBlob(x).correct()))\n",
        "\n",
        "#pip install --upgrade gensim\n",
        "#importing pretrained features\n",
        "# from gensim.scripts.glove2word2vec import glove2word2vec\n",
        "# from gensim.test.utils import datapath, get_tmpfile\n",
        "# from gensim.models import KeyedVectors\n",
        "# glove_input_file = datapath('/content/drive/My Drive/CA684ML/glove.6B/glove.6B.50d.txt')\n",
        "# word2vec_output_file = datapath('/content/drive/My Drive/CA684ML/glove.6B.50d.txt.word2vec')\n",
        "# glove2word2vec(glove_input_file, word2vec_output_file)"
      ],
      "execution_count": 0,
      "outputs": []
    },
    {
      "cell_type": "code",
      "metadata": {
        "colab_type": "code",
        "id": "xEBbtaEKDJs0",
        "colab": {}
      },
      "source": [
        "#counting the words\n",
        "counts = Counter()\n",
        "len(df_cap['caption'])\n",
        "for i, cap in enumerate(df_cap['caption']):\n",
        "    text = ''.join([c if c not in punctuation else ' ' for c in cap]).lower()\n",
        "    df_cap.loc[i,'caption'] = text\n",
        "    counts.update(text.split())"
      ],
      "execution_count": 0,
      "outputs": []
    },
    {
      "cell_type": "code",
      "metadata": {
        "colab_type": "code",
        "id": "ZpRVbW2NDJs7",
        "colab": {}
      },
      "source": [
        "# build the word index\n",
        "len_token = len(counts)\n",
        "tokenizer = Tokenizer(num_words=len_token)"
      ],
      "execution_count": 0,
      "outputs": []
    },
    {
      "cell_type": "code",
      "metadata": {
        "colab_type": "code",
        "id": "Zkw4c_jcDJtA",
        "colab": {}
      },
      "source": [
        "#tokenizing and sequencing the text\n",
        "tokenizer.fit_on_texts(list(df_cap.caption.values))  \n",
        "sequences = tokenizer.texts_to_sequences(list(df_cap.caption.values))"
      ],
      "execution_count": 0,
      "outputs": []
    },
    {
      "cell_type": "code",
      "metadata": {
        "id": "yMOIscZ_CG3l",
        "colab_type": "code",
        "outputId": "94cda357-57e7-439f-e37e-f29e15fea897",
        "colab": {
          "base_uri": "https://localhost:8080/",
          "height": 34
        }
      },
      "source": [
        "#padding the words to the maximum length such that dimensions are uniform\n",
        "vocab_size = len(tokenizer.word_index) + 1\n",
        "max_length = 50\n",
        "padded_docs = pad_sequences(sequences, maxlen=max_length, padding='post')\n",
        "print(\"No of padded documents: \",len(padded_docs))"
      ],
      "execution_count": 0,
      "outputs": [
        {
          "output_type": "stream",
          "text": [
            "No of padded documents:  6000\n"
          ],
          "name": "stdout"
        }
      ]
    },
    {
      "cell_type": "code",
      "metadata": {
        "id": "L1NLTTPgDnBL",
        "colab_type": "code",
        "outputId": "03d1fbc0-7db6-41f5-ccfa-ef255947deb8",
        "colab": {
          "base_uri": "https://localhost:8080/",
          "height": 34
        }
      },
      "source": [
        "#building the dictionary with pretrained GloVe features\n",
        "embeddings_index = dict()\n",
        "f = open('/content/drive/My Drive/CA684ML/glove.6B/glove.6B.100d.txt')\n",
        "for line in f:\n",
        "\tvalues = line.split()\n",
        "\tword = values[0]\n",
        "\tcoefs = asarray(values[1:], dtype='float32')\n",
        "\tembeddings_index[word] = coefs\n",
        "f.close()\n",
        "print('Loaded %s word vectors.' % len(embeddings_index))"
      ],
      "execution_count": 0,
      "outputs": [
        {
          "output_type": "stream",
          "text": [
            "Loaded 400000 word vectors.\n"
          ],
          "name": "stdout"
        }
      ]
    },
    {
      "cell_type": "code",
      "metadata": {
        "id": "xKH6SGt0Ekoq",
        "colab_type": "code",
        "outputId": "ba403860-b985-432b-defd-43c87e1dec7d",
        "colab": {
          "base_uri": "https://localhost:8080/",
          "height": 323
        }
      },
      "source": [
        "#creating embedding matrix\n",
        "embedding_matrix = np.zeros(shape=(vocab_size, 100))\n",
        "for word, i in tokenizer.word_index.items():\n",
        "\tembedding_vector = embeddings_index.get(word)\n",
        "\tif embedding_vector is not None:\n",
        "\t\tembedding_matrix[i] = embedding_vector\n",
        "    \n",
        "print(embedding_matrix[1])\n",
        "embedding_matrix.shape"
      ],
      "execution_count": 0,
      "outputs": [
        {
          "output_type": "stream",
          "text": [
            "[ 0.59368002  0.44825     0.59320003  0.074134    0.11141     1.27929997\n",
            "  0.16655999  0.24070001  0.39045     0.32765999 -0.75033998  0.35007\n",
            "  0.76056999  0.38067001  0.17517     0.031791    0.46849    -0.21653\n",
            " -0.46281999  0.39967     0.16622999 -0.011477    0.044059    0.30325001\n",
            "  0.6153      0.47047001 -0.44036001 -1.59630001  0.18433     0.23193\n",
            "  0.20452     0.51617002  0.65733999 -0.3452      0.23446    -0.62004\n",
            " -0.68741     0.28575     1.06050003  0.46915999 -0.85149002  0.10154\n",
            "  0.21426    -0.20587     0.23636     0.21321    -0.21287     0.12107\n",
            "  0.18765999 -0.23282    -0.25499001 -0.39631     0.84378999  1.68009996\n",
            " -0.40941    -1.99759996 -0.69867998  0.21732     1.21969998  0.55125999\n",
            "  0.44095001  0.72588003 -0.092053   -0.022406    0.72039002  0.1076\n",
            "  0.84116     0.30311999 -0.42544001  0.056362    0.13109    -0.071181\n",
            " -0.10579     0.56677002  0.54547     0.84113002  0.14861    -0.62628001\n",
            " -0.68391001 -1.08309996 -0.088385    0.32167     0.47793999  0.091868\n",
            " -1.25590003 -1.22679996  0.085401    0.36833     0.081566   -0.76611\n",
            "  0.87751001 -0.22008     0.82401001 -0.092207   -0.45941001  0.46571001\n",
            " -0.56018001 -0.54648     0.15162    -0.30754   ]\n"
          ],
          "name": "stdout"
        },
        {
          "output_type": "execute_result",
          "data": {
            "text/plain": [
              "(5099, 100)"
            ]
          },
          "metadata": {
            "tags": []
          },
          "execution_count": 40
        }
      ]
    },
    {
      "cell_type": "code",
      "metadata": {
        "id": "BPcAZupTcq52",
        "colab_type": "code",
        "colab": {}
      },
      "source": [
        "#configuring the Kerass Embedding model\n",
        "model_glove = Sequential()\n",
        "model_glove.add(Embedding(vocab_size, 100, weights=[embedding_matrix],input_length=max_length, embeddings_initializer=Constant(embedding_matrix)))\n",
        "model_glove.add(SpatialDropout1D(0.2))\n",
        "model_glove.add(Bidirectional(CuDNNLSTM(64, return_sequences=True)))\n",
        "model_glove.add(Bidirectional(CuDNNLSTM(32)))\n",
        "model_glove.add(Dropout(0.25))\n",
        "model_glove.add(layers.Dense(1,activation='selu'))"
      ],
      "execution_count": 0,
      "outputs": []
    },
    {
      "cell_type": "code",
      "metadata": {
        "id": "-3Ld2dAmfnLt",
        "colab_type": "code",
        "colab": {}
      },
      "source": [
        "#splitting the data into train and validation sets\n",
        "X_caps = padded_docs;\n",
        "Y = labels[['short-term_memorability']].values\n",
        "X_train_caps, X_val_caps, Y_train, Y_val = train_test_split(X_caps,Y, test_size=0.2, random_state= seed_val)"
      ],
      "execution_count": 0,
      "outputs": []
    },
    {
      "cell_type": "code",
      "metadata": {
        "id": "PODrQyz04o5t",
        "colab_type": "code",
        "outputId": "ec7185a4-0877-4db5-9af9-108a9e9d9a62",
        "colab": {
          "base_uri": "https://localhost:8080/",
          "height": 51
        }
      },
      "source": [
        "print(\"X_train = %.f\" % len(X_train_caps))\n",
        "print(\"X_val = %.f\" % len(X_val_caps))"
      ],
      "execution_count": 0,
      "outputs": [
        {
          "output_type": "stream",
          "text": [
            "X_train = 4800\n",
            "X_val = 1200\n"
          ],
          "name": "stdout"
        }
      ]
    },
    {
      "cell_type": "code",
      "metadata": {
        "id": "r6QMMw2KZT-W",
        "colab_type": "code",
        "outputId": "eabf97ca-10fc-4507-9e17-c23438eb9d8a",
        "colab": {
          "base_uri": "https://localhost:8080/",
          "height": 34
        }
      },
      "source": [
        "print(X_train_caps.shape)"
      ],
      "execution_count": 0,
      "outputs": [
        {
          "output_type": "stream",
          "text": [
            "(4800, 50)\n"
          ],
          "name": "stdout"
        }
      ]
    },
    {
      "cell_type": "code",
      "metadata": {
        "id": "LRtuTe-xyGYu",
        "colab_type": "code",
        "outputId": "453abbc3-6e1f-40dd-c3d5-dcc0116646ff",
        "colab": {
          "base_uri": "https://localhost:8080/",
          "height": 714
        }
      },
      "source": [
        "# compile the model \n",
        "opt = optimizers.RMSprop(lr=0.001, rho=0.89, epsilon=None, decay=0.0)\n",
        "model_glove.compile(optimizer=opt,loss='mse')\n",
        "\n",
        "# training the model \n",
        "history_glove = model_glove.fit(X_train_caps,Y_train, epochs=20, validation_data=(X_val_caps,Y_val))"
      ],
      "execution_count": 0,
      "outputs": [
        {
          "output_type": "stream",
          "text": [
            "Train on 4800 samples, validate on 1200 samples\n",
            "Epoch 1/20\n",
            "4800/4800 [==============================] - 6s 1ms/step - loss: 0.0324 - val_loss: 0.0052\n",
            "Epoch 2/20\n",
            "4800/4800 [==============================] - 2s 514us/step - loss: 0.0136 - val_loss: 0.0054\n",
            "Epoch 3/20\n",
            "4800/4800 [==============================] - 2s 508us/step - loss: 0.0113 - val_loss: 0.0064\n",
            "Epoch 4/20\n",
            "4800/4800 [==============================] - 2s 511us/step - loss: 0.0105 - val_loss: 0.0102\n",
            "Epoch 5/20\n",
            "4800/4800 [==============================] - 2s 512us/step - loss: 0.0092 - val_loss: 0.0050\n",
            "Epoch 6/20\n",
            "4800/4800 [==============================] - 2s 509us/step - loss: 0.0087 - val_loss: 0.0075\n",
            "Epoch 7/20\n",
            "4800/4800 [==============================] - 2s 504us/step - loss: 0.0087 - val_loss: 0.0048\n",
            "Epoch 8/20\n",
            "4800/4800 [==============================] - 2s 511us/step - loss: 0.0080 - val_loss: 0.0069\n",
            "Epoch 9/20\n",
            "4800/4800 [==============================] - 2s 511us/step - loss: 0.0077 - val_loss: 0.0049\n",
            "Epoch 10/20\n",
            "4800/4800 [==============================] - 2s 516us/step - loss: 0.0071 - val_loss: 0.0051\n",
            "Epoch 11/20\n",
            "4800/4800 [==============================] - 2s 508us/step - loss: 0.0070 - val_loss: 0.0050\n",
            "Epoch 12/20\n",
            "4800/4800 [==============================] - 2s 510us/step - loss: 0.0067 - val_loss: 0.0049\n",
            "Epoch 13/20\n",
            "4800/4800 [==============================] - 2s 510us/step - loss: 0.0064 - val_loss: 0.0050\n",
            "Epoch 14/20\n",
            "4800/4800 [==============================] - 2s 513us/step - loss: 0.0062 - val_loss: 0.0054\n",
            "Epoch 15/20\n",
            "4800/4800 [==============================] - 3s 593us/step - loss: 0.0059 - val_loss: 0.0046\n",
            "Epoch 16/20\n",
            "4800/4800 [==============================] - 3s 578us/step - loss: 0.0056 - val_loss: 0.0047\n",
            "Epoch 17/20\n",
            "4800/4800 [==============================] - 2s 510us/step - loss: 0.0054 - val_loss: 0.0051\n",
            "Epoch 18/20\n",
            "4800/4800 [==============================] - 2s 510us/step - loss: 0.0051 - val_loss: 0.0050\n",
            "Epoch 19/20\n",
            "4800/4800 [==============================] - 2s 512us/step - loss: 0.0049 - val_loss: 0.0059\n",
            "Epoch 20/20\n",
            "4800/4800 [==============================] - 2s 510us/step - loss: 0.0046 - val_loss: 0.0048\n"
          ],
          "name": "stdout"
        }
      ]
    },
    {
      "cell_type": "code",
      "metadata": {
        "id": "hui0zsLVnc3_",
        "colab_type": "code",
        "outputId": "0442f58e-b905-41bc-926a-f225b0f8fc44",
        "colab": {
          "base_uri": "https://localhost:8080/",
          "height": 295
        }
      },
      "source": [
        "#visualizing the model\n",
        "loss = history_glove.history['loss']\n",
        "val_loss = history_glove.history['val_loss']\n",
        "\n",
        "epochs = range(1,len(loss)+1)\n",
        "\n",
        "plt.plot(epochs,loss,'bo',label='Training loss')\n",
        "plt.plot(epochs,val_loss,'b',label='Validation loss')\n",
        "plt.title('Training and validation loss')\n",
        "plt.xlabel('Epochs')\n",
        "plt.ylabel('Loss')\n",
        "plt.legend()\n",
        "plt.show()"
      ],
      "execution_count": 0,
      "outputs": [
        {
          "output_type": "display_data",
          "data": {
            "image/png": "[encoded data removed]",
            "text/plain": [
              "<Figure size 432x288 with 1 Axes>"
            ]
          },
          "metadata": {
            "tags": []
          }
        }
      ]
    },
    {
      "cell_type": "code",
      "metadata": {
        "id": "utcKzG_gyrin",
        "colab_type": "code",
        "colab": {}
      },
      "source": [
        "#predicting the short term memorability scores\n",
        "Y_pred_val_caps = model_glove.predict(X_val_caps)"
      ],
      "execution_count": 0,
      "outputs": []
    },
    {
      "cell_type": "code",
      "metadata": {
        "id": "ISQZwjIVeMcC",
        "colab_type": "code",
        "outputId": "598671c7-b102-4680-edbd-38d160dc975d",
        "colab": {
          "base_uri": "https://localhost:8080/",
          "height": 136
        }
      },
      "source": [
        "Y_pred_val_caps"
      ],
      "execution_count": 0,
      "outputs": [
        {
          "output_type": "execute_result",
          "data": {
            "text/plain": [
              "array([[0.854275  ],\n",
              "       [0.8504025 ],\n",
              "       [0.8351725 ],\n",
              "       ...,\n",
              "       [0.87086666],\n",
              "       [0.82574934],\n",
              "       [0.85120326]], dtype=float32)"
            ]
          },
          "metadata": {
            "tags": []
          },
          "execution_count": 51
        }
      ]
    },
    {
      "cell_type": "code",
      "metadata": {
        "id": "1I1OA-sh6uZA",
        "colab_type": "code",
        "outputId": "87268fad-97c8-49d7-f434-d29dcde82ce2",
        "colab": {
          "base_uri": "https://localhost:8080/",
          "height": 51
        }
      },
      "source": [
        "print('Evaluation Scores')\n",
        "Get_score(Y_pred_val_caps,Y_val)"
      ],
      "execution_count": 0,
      "outputs": [
        {
          "output_type": "stream",
          "text": [
            "Evaluation Scores\n",
            "The Spearman's correlation coefficient is: 0.470\n"
          ],
          "name": "stdout"
        }
      ]
    },
    {
      "cell_type": "markdown",
      "metadata": {
        "id": "bHbgASz36vQp",
        "colab_type": "text"
      },
      "source": [
        "## Combined 3 Models - DevTest"
      ]
    },
    {
      "cell_type": "code",
      "metadata": {
        "id": "Y8_W55lKzOFy",
        "colab_type": "code",
        "outputId": "5bec5aaf-5671-41dd-f808-28593c716049",
        "colab": {
          "base_uri": "https://localhost:8080/",
          "height": 34
        }
      },
      "source": [
        "#feature output\n",
        "Y_pred_val_avg = (Y_pred_val_caps+Y_pred_c3d+Y_pred_val_HMP)/3\n",
        "Get_score(Y_pred_val_avg,Y_val)"
      ],
      "execution_count": 0,
      "outputs": [
        {
          "output_type": "stream",
          "text": [
            "The Spearman's correlation coefficient is: 0.457\n"
          ],
          "name": "stdout"
        }
      ]
    },
    {
      "cell_type": "code",
      "metadata": {
        "id": "_1XD96WGshr-",
        "colab_type": "code",
        "colab": {}
      },
      "source": [
        "#weighted feature output\n",
        "Y_pred_val_caps_weighted = Y_pred_val_caps*0.70\n",
        "Y_pred_c3d_weighted = Y_pred_c3d*0.10\n",
        "Y_pred_val_HMP_weighted = Y_pred_val_HMP*0.20\n",
        "Y_pred_val_avg_weighted = Y_pred_val_caps_weighted+Y_pred_c3d_weighted+Y_pred_val_HMP_weighted"
      ],
      "execution_count": 0,
      "outputs": []
    },
    {
      "cell_type": "code",
      "metadata": {
        "id": "HhNGjSaIs_Zd",
        "colab_type": "code",
        "outputId": "0d132423-d3d5-4aae-a50b-99469fabe2f5",
        "colab": {
          "base_uri": "https://localhost:8080/",
          "height": 34
        }
      },
      "source": [
        "Get_score(Y_pred_val_avg_weighted,Y_val)"
      ],
      "execution_count": 0,
      "outputs": [
        {
          "output_type": "stream",
          "text": [
            "The Spearman's correlation coefficient is: 0.477\n"
          ],
          "name": "stdout"
        }
      ]
    },
    {
      "cell_type": "markdown",
      "metadata": {
        "id": "QicpQsEq57YQ",
        "colab_type": "text"
      },
      "source": [
        "## Final Model\n",
        "\n",
        "\n",
        "\n",
        "---\n",
        "\n",
        "\n",
        "\n",
        "---\n",
        "After the Dev-Test, all the available data is used to train the three models. This is the model that is used to predict scores in the 2000 records of withheld test data."
      ]
    },
    {
      "cell_type": "code",
      "metadata": {
        "id": "cp6Grx4i6o0F",
        "colab_type": "code",
        "outputId": "e9eff8d9-e040-4f8b-ba9e-8fd74c00593b",
        "colab": {
          "base_uri": "https://localhost:8080/",
          "height": 34
        }
      },
      "source": [
        "#final HMP model\n",
        "model_HMP.fit(x=X_HMP,y=Y,batch_size=50,epochs=40,shuffle=True,verbose=False)\n",
        "#saving final HMP model\n",
        "#final_model_HMP.save(\"final_model_HMP.h5\")"
      ],
      "execution_count": 0,
      "outputs": [
        {
          "output_type": "execute_result",
          "data": {
            "text/plain": [
              "<keras.callbacks.History at 0x7f2e47569240>"
            ]
          },
          "metadata": {
            "tags": []
          },
          "execution_count": 152
        }
      ]
    },
    {
      "cell_type": "code",
      "metadata": {
        "id": "PEA529FJ1bHe",
        "colab_type": "code",
        "outputId": "f1574cfc-20c0-4fae-f815-e60b8daca28a",
        "colab": {
          "base_uri": "https://localhost:8080/",
          "height": 34
        }
      },
      "source": [
        "#final C3D model\n",
        "model_c3d.fit(x=X_c3d,y=Y,epochs=25, shuffle=True,verbose=False)\n",
        "#saving final C3d model\n",
        "#final_model_c3d.save(\"final_model_c3d.h5\")"
      ],
      "execution_count": 0,
      "outputs": [
        {
          "output_type": "execute_result",
          "data": {
            "text/plain": [
              "<keras.callbacks.History at 0x7f2e43893ba8>"
            ]
          },
          "metadata": {
            "tags": []
          },
          "execution_count": 153
        }
      ]
    },
    {
      "cell_type": "code",
      "metadata": {
        "id": "xxLBxD-A2y3r",
        "colab_type": "code",
        "outputId": "9a54a71b-6aed-4b37-c959-e0bcf7701076",
        "colab": {
          "base_uri": "https://localhost:8080/",
          "height": 714
        }
      },
      "source": [
        "#final Captions model\n",
        "model_glove.fit(X_caps,Y,epochs=20)\n",
        "#saving final captions model\n",
        "#final_model_glove.save(\"final_model_glove.h5\")"
      ],
      "execution_count": 0,
      "outputs": [
        {
          "output_type": "stream",
          "text": [
            "Epoch 1/20\n",
            "6000/6000 [==============================] - 3s 473us/step - loss: 0.0021\n",
            "Epoch 2/20\n",
            "6000/6000 [==============================] - 3s 472us/step - loss: 0.0021\n",
            "Epoch 3/20\n",
            "6000/6000 [==============================] - 3s 471us/step - loss: 0.0020\n",
            "Epoch 4/20\n",
            "6000/6000 [==============================] - 3s 469us/step - loss: 0.0019\n",
            "Epoch 5/20\n",
            "6000/6000 [==============================] - 3s 470us/step - loss: 0.0020\n",
            "Epoch 6/20\n",
            "6000/6000 [==============================] - 3s 470us/step - loss: 0.0018\n",
            "Epoch 7/20\n",
            "6000/6000 [==============================] - 3s 470us/step - loss: 0.0018\n",
            "Epoch 8/20\n",
            "6000/6000 [==============================] - 3s 505us/step - loss: 0.0018\n",
            "Epoch 9/20\n",
            "6000/6000 [==============================] - 3s 544us/step - loss: 0.0017\n",
            "Epoch 10/20\n",
            "6000/6000 [==============================] - 3s 544us/step - loss: 0.0017\n",
            "Epoch 11/20\n",
            "6000/6000 [==============================] - 3s 518us/step - loss: 0.0016\n",
            "Epoch 12/20\n",
            "6000/6000 [==============================] - 3s 471us/step - loss: 0.0016\n",
            "Epoch 13/20\n",
            "6000/6000 [==============================] - 3s 471us/step - loss: 0.0016\n",
            "Epoch 14/20\n",
            "6000/6000 [==============================] - 3s 469us/step - loss: 0.0015\n",
            "Epoch 15/20\n",
            "6000/6000 [==============================] - 3s 469us/step - loss: 0.0015\n",
            "Epoch 16/20\n",
            "6000/6000 [==============================] - 3s 471us/step - loss: 0.0015\n",
            "Epoch 17/20\n",
            "6000/6000 [==============================] - 3s 473us/step - loss: 0.0015\n",
            "Epoch 18/20\n",
            "6000/6000 [==============================] - 3s 470us/step - loss: 0.0014\n",
            "Epoch 19/20\n",
            "6000/6000 [==============================] - 3s 471us/step - loss: 0.0014\n",
            "Epoch 20/20\n",
            "6000/6000 [==============================] - 3s 471us/step - loss: 0.0014\n"
          ],
          "name": "stdout"
        },
        {
          "output_type": "execute_result",
          "data": {
            "text/plain": [
              "<keras.callbacks.History at 0x7f2e43893ac8>"
            ]
          },
          "metadata": {
            "tags": []
          },
          "execution_count": 154
        }
      ]
    },
    {
      "cell_type": "markdown",
      "metadata": {
        "id": "kBNEHWoBqwxa",
        "colab_type": "text"
      },
      "source": [
        "\n",
        "\n",
        "---\n",
        "\n",
        "\n",
        "\n",
        "---\n",
        "\n",
        "\n",
        "#**Long-Term Memorability (Dev)**\n",
        "\n",
        "\n",
        "---\n",
        "\n",
        "The following cells are to predict the Long-term memorability of the dataset. Output from three models, using three different features, are combined to arrive at the short-term memorability score. The three models are as follows -\n",
        "\n",
        "*   HMP features with Keras NN model\n",
        "*   C3D features with Keras NN model\n",
        "*   Captions - processed with GloVe and used in a Keras NN\n",
        "\n",
        "\n",
        "\n",
        "\n"
      ]
    },
    {
      "cell_type": "markdown",
      "metadata": {
        "id": "i0VYxrChrhBG",
        "colab_type": "text"
      },
      "source": [
        "##HMP Features - DevTest"
      ]
    },
    {
      "cell_type": "code",
      "metadata": {
        "id": "U5Y_sPk9rnSU",
        "colab_type": "code",
        "colab": {}
      },
      "source": [
        "#creating training and validation sets\n",
        "XL_HMP = np.stack(Features_HMP['HMP'].values)\n",
        "YL = labels[['long-term_memorability']].values\n",
        "\n",
        "XL_train_HMP, XL_val_HMP, YL_train, YL_val = train_test_split(XL_HMP,YL, test_size=0.2, random_state=seed_val)"
      ],
      "execution_count": 0,
      "outputs": []
    },
    {
      "cell_type": "code",
      "metadata": {
        "id": "HQKdjo_CgJvI",
        "colab_type": "code",
        "outputId": "24dcd488-4c46-43b9-d1f3-235b4057e662",
        "colab": {
          "base_uri": "https://localhost:8080/",
          "height": 51
        }
      },
      "source": [
        "print(\"X_train_HMP = %.f\" % len(XL_train_HMP))\n",
        "print(\"X_val_HMP = %.f\" % len(XL_val_HMP))"
      ],
      "execution_count": 0,
      "outputs": [
        {
          "output_type": "stream",
          "text": [
            "X_train_HMP = 4800\n",
            "X_val_HMP = 1200\n"
          ],
          "name": "stdout"
        }
      ]
    },
    {
      "cell_type": "code",
      "metadata": {
        "id": "N14_hqdMgdR6",
        "colab_type": "code",
        "outputId": "e097000e-9344-4af2-f812-1474c258c94b",
        "colab": {
          "base_uri": "https://localhost:8080/",
          "height": 374
        }
      },
      "source": [
        "#configuring the Keras model\n",
        "model_HMPL = Sequential()\n",
        "model_HMPL.add(layers.Dense(500,activation='selu',kernel_regularizer=None,input_shape=(XL_HMP.shape[1],)))\n",
        "model_HMPL.add(layers.Dropout(0.2))\n",
        "model_HMPL.add(layers.Dense(500,activation='selu',kernel_regularizer=None))\n",
        "model_HMPL.add(layers.Dropout(0.1))\n",
        "model_HMPL.add(layers.Dense(500,activation='selu',kernel_regularizer=None))\n",
        "model_HMPL.add(layers.Dropout(0.1))\n",
        "model_HMPL.add(layers.Dense(1,activation='selu'))\n",
        "model_HMPL.summary()"
      ],
      "execution_count": 0,
      "outputs": [
        {
          "output_type": "stream",
          "text": [
            "_________________________________________________________________\n",
            "Layer (type)                 Output Shape              Param #   \n",
            "=================================================================\n",
            "dense_13 (Dense)             (None, 500)               3038000   \n",
            "_________________________________________________________________\n",
            "dropout_11 (Dropout)         (None, 500)               0         \n",
            "_________________________________________________________________\n",
            "dense_14 (Dense)             (None, 500)               250500    \n",
            "_________________________________________________________________\n",
            "dropout_12 (Dropout)         (None, 500)               0         \n",
            "_________________________________________________________________\n",
            "dense_15 (Dense)             (None, 500)               250500    \n",
            "_________________________________________________________________\n",
            "dropout_13 (Dropout)         (None, 500)               0         \n",
            "_________________________________________________________________\n",
            "dense_16 (Dense)             (None, 1)                 501       \n",
            "=================================================================\n",
            "Total params: 3,539,501\n",
            "Trainable params: 3,539,501\n",
            "Non-trainable params: 0\n",
            "_________________________________________________________________\n"
          ],
          "name": "stdout"
        }
      ]
    },
    {
      "cell_type": "code",
      "metadata": {
        "id": "Z7Fb5tzZgoDP",
        "colab_type": "code",
        "colab": {}
      },
      "source": [
        "#compiling and fitting the model\n",
        "model_HMPL.compile(optimizer='rmsprop',loss=['mae'])\n",
        "history_HMPL=model_HMPL.fit(x=XL_train_HMP,y=YL_train,batch_size=50,epochs=40, validation_data=(XL_val_HMP,YL_val), shuffle=True,verbose=False)"
      ],
      "execution_count": 0,
      "outputs": []
    },
    {
      "cell_type": "code",
      "metadata": {
        "id": "GjUusVP1gv22",
        "colab_type": "code",
        "outputId": "8df10261-bac8-46a5-9f02-3b05befd04bf",
        "colab": {
          "base_uri": "https://localhost:8080/",
          "height": 295
        }
      },
      "source": [
        "#visualising loss\n",
        "\n",
        "loss = history_HMPL.history['loss']\n",
        "val_loss = history_HMPL.history['val_loss']\n",
        "\n",
        "epochs = range(1,len(loss)+1)\n",
        "\n",
        "plt.figure()\n",
        "plt.plot(epochs,loss,'bo',label='Training loss')\n",
        "plt.plot(epochs,val_loss,'b',label='Validation loss')\n",
        "plt.title('Training and validation loss')\n",
        "plt.xlabel('Epochs')\n",
        "plt.ylabel('Loss')\n",
        "plt.legend()\n",
        "plt.show()"
      ],
      "execution_count": 0,
      "outputs": [
        {
          "output_type": "display_data",
          "data": {
            "image/png": "[encoded data removed]",
            "text/plain": [
              "<Figure size 432x288 with 1 Axes>"
            ]
          },
          "metadata": {
            "tags": []
          }
        }
      ]
    },
    {
      "cell_type": "code",
      "metadata": {
        "id": "6XKWMFGLg1Wx",
        "colab_type": "code",
        "colab": {}
      },
      "source": [
        "#predicting the validation set\n",
        "YL_pred_val_HMP = model_HMPL.predict(XL_val_HMP)"
      ],
      "execution_count": 0,
      "outputs": []
    },
    {
      "cell_type": "code",
      "metadata": {
        "id": "ytR0eGCnkVN8",
        "colab_type": "code",
        "outputId": "79afdd0e-9bb8-49b1-fec3-e7a07c3a236f",
        "colab": {
          "base_uri": "https://localhost:8080/",
          "height": 51
        }
      },
      "source": [
        "print('Evaluation Scores')\n",
        "Get_score(YL_pred_val_HMP,YL_val)"
      ],
      "execution_count": 0,
      "outputs": [
        {
          "output_type": "stream",
          "text": [
            "Evaluation Scores\n",
            "The Spearman's correlation coefficient is: 0.119\n"
          ],
          "name": "stdout"
        }
      ]
    },
    {
      "cell_type": "markdown",
      "metadata": {
        "id": "M3s-F-xYklKw",
        "colab_type": "text"
      },
      "source": [
        "##C3DFeatures - DevTest"
      ]
    },
    {
      "cell_type": "code",
      "metadata": {
        "id": "noDN60ZBsq3U",
        "colab_type": "code",
        "colab": {}
      },
      "source": [
        "#splitting the data into training and validation sets\n",
        "XL_c3d = np.stack(Features_c3d.C3D.values)\n",
        "YL = labels[['long-term_memorability']].values\n",
        "\n",
        "XL_train_c3d, XL_val_c3d, YL_train, YL_val = train_test_split(XL_c3d, YL, test_size = 0.2, random_state = seed_val)"
      ],
      "execution_count": 0,
      "outputs": []
    },
    {
      "cell_type": "code",
      "metadata": {
        "id": "uKwiueRUs9UL",
        "colab_type": "code",
        "outputId": "d6149f21-44ad-4153-e7f4-55a0f03b48fc",
        "colab": {
          "base_uri": "https://localhost:8080/",
          "height": 51
        }
      },
      "source": [
        "print(\"X_train = %.f\" % len(XL_train_c3d))\n",
        "print(\"X_val = %.f\" % len(XL_val_c3d))"
      ],
      "execution_count": 0,
      "outputs": [
        {
          "output_type": "stream",
          "text": [
            "X_train = 4800\n",
            "X_val = 1200\n"
          ],
          "name": "stdout"
        }
      ]
    },
    {
      "cell_type": "code",
      "metadata": {
        "id": "2duf0V7Owx-q",
        "colab_type": "code",
        "colab": {}
      },
      "source": [
        "modelL_c3d = Sequential()\n",
        "modelL_c3d.add(layers.Dense(50,activation='relu',kernel_regularizer=regularizers.l2(0.001),input_shape=(X_c3d.shape[1],)))\n",
        "modelL_c3d.add(Dropout(0.02))\n",
        "modelL_c3d.add(layers.Dense(20,activation='relu'))\n",
        "modelL_c3d.add(layers.Dropout(0.01))\n",
        "modelL_c3d.add(layers.Dense(10,activation='relu'))\n",
        "modelL_c3d.add(layers.Dropout(0.01))\n",
        "modelL_c3d.add(BatchNormalization())\n",
        "modelL_c3d.add(layers.Dense(1,activation='sigmoid'))"
      ],
      "execution_count": 0,
      "outputs": []
    },
    {
      "cell_type": "code",
      "metadata": {
        "id": "AILPCT6HtRSj",
        "colab_type": "code",
        "outputId": "c1262120-17f2-4a60-a720-e95a626757df",
        "colab": {
          "base_uri": "https://localhost:8080/",
          "height": 884
        }
      },
      "source": [
        "#compiling the model and fitting the data\n",
        "modelL_c3d.compile(optimizer='rmsprop',loss='mae')\n",
        "historyL_c3d=model_c3d.fit(x=XL_train_c3d,y=YL_train,epochs=25, validation_data=(XL_val_c3d,YL_val))"
      ],
      "execution_count": 0,
      "outputs": [
        {
          "output_type": "stream",
          "text": [
            "Train on 4800 samples, validate on 1200 samples\n",
            "Epoch 1/25\n",
            "4800/4800 [==============================] - 2s 413us/step - loss: 0.5180 - acc: 0.0852 - val_loss: 0.5277 - val_acc: 0.0858\n",
            "Epoch 2/25\n",
            "4800/4800 [==============================] - 1s 203us/step - loss: 0.5175 - acc: 0.0852 - val_loss: 0.5300 - val_acc: 0.0858\n",
            "Epoch 3/25\n",
            "4800/4800 [==============================] - 1s 200us/step - loss: 0.5167 - acc: 0.0852 - val_loss: 0.5295 - val_acc: 0.0858\n",
            "Epoch 4/25\n",
            "4800/4800 [==============================] - 1s 204us/step - loss: 0.5177 - acc: 0.0852 - val_loss: 0.5304 - val_acc: 0.0858\n",
            "Epoch 5/25\n",
            "4800/4800 [==============================] - 1s 210us/step - loss: 0.5173 - acc: 0.0852 - val_loss: 0.5287 - val_acc: 0.0858\n",
            "Epoch 6/25\n",
            "4800/4800 [==============================] - 1s 207us/step - loss: 0.5169 - acc: 0.0852 - val_loss: 0.5301 - val_acc: 0.0858\n",
            "Epoch 7/25\n",
            "4800/4800 [==============================] - 1s 203us/step - loss: 0.5177 - acc: 0.0852 - val_loss: 0.5297 - val_acc: 0.0858\n",
            "Epoch 8/25\n",
            "4800/4800 [==============================] - 1s 204us/step - loss: 0.5188 - acc: 0.0852 - val_loss: 0.5287 - val_acc: 0.0858\n",
            "Epoch 9/25\n",
            "4800/4800 [==============================] - 1s 205us/step - loss: 0.5169 - acc: 0.0852 - val_loss: 0.5303 - val_acc: 0.0858\n",
            "Epoch 10/25\n",
            "4800/4800 [==============================] - 1s 203us/step - loss: 0.5173 - acc: 0.0852 - val_loss: 0.5287 - val_acc: 0.0858\n",
            "Epoch 11/25\n",
            "4800/4800 [==============================] - 1s 203us/step - loss: 0.5171 - acc: 0.0852 - val_loss: 0.5300 - val_acc: 0.0858\n",
            "Epoch 12/25\n",
            "4800/4800 [==============================] - 1s 204us/step - loss: 0.5176 - acc: 0.0852 - val_loss: 0.5280 - val_acc: 0.0858\n",
            "Epoch 13/25\n",
            "4800/4800 [==============================] - 1s 205us/step - loss: 0.5175 - acc: 0.0852 - val_loss: 0.5276 - val_acc: 0.0858\n",
            "Epoch 14/25\n",
            "4800/4800 [==============================] - 1s 204us/step - loss: 0.5178 - acc: 0.0852 - val_loss: 0.5291 - val_acc: 0.0858\n",
            "Epoch 15/25\n",
            "4800/4800 [==============================] - 1s 204us/step - loss: 0.5177 - acc: 0.0852 - val_loss: 0.5298 - val_acc: 0.0858\n",
            "Epoch 16/25\n",
            "4800/4800 [==============================] - 1s 204us/step - loss: 0.5176 - acc: 0.0852 - val_loss: 0.5285 - val_acc: 0.0858\n",
            "Epoch 17/25\n",
            "4800/4800 [==============================] - 1s 204us/step - loss: 0.5161 - acc: 0.0852 - val_loss: 0.5315 - val_acc: 0.0858\n",
            "Epoch 18/25\n",
            "4800/4800 [==============================] - 1s 204us/step - loss: 0.5169 - acc: 0.0852 - val_loss: 0.5304 - val_acc: 0.0858\n",
            "Epoch 19/25\n",
            "4800/4800 [==============================] - 1s 202us/step - loss: 0.5179 - acc: 0.0852 - val_loss: 0.5304 - val_acc: 0.0858\n",
            "Epoch 20/25\n",
            "4800/4800 [==============================] - 1s 204us/step - loss: 0.5172 - acc: 0.0852 - val_loss: 0.5276 - val_acc: 0.0858\n",
            "Epoch 21/25\n",
            "4800/4800 [==============================] - 1s 201us/step - loss: 0.5161 - acc: 0.0852 - val_loss: 0.5297 - val_acc: 0.0858\n",
            "Epoch 22/25\n",
            "4800/4800 [==============================] - 1s 206us/step - loss: 0.5172 - acc: 0.0852 - val_loss: 0.5316 - val_acc: 0.0858\n",
            "Epoch 23/25\n",
            "4800/4800 [==============================] - 1s 203us/step - loss: 0.5161 - acc: 0.0852 - val_loss: 0.5297 - val_acc: 0.0858\n",
            "Epoch 24/25\n",
            "4800/4800 [==============================] - 1s 203us/step - loss: 0.5168 - acc: 0.0852 - val_loss: 0.5295 - val_acc: 0.0858\n",
            "Epoch 25/25\n",
            "4800/4800 [==============================] - 1s 201us/step - loss: 0.5171 - acc: 0.0852 - val_loss: 0.5298 - val_acc: 0.0858\n"
          ],
          "name": "stdout"
        }
      ]
    },
    {
      "cell_type": "code",
      "metadata": {
        "id": "COQX2rbwtXF7",
        "colab_type": "code",
        "outputId": "90b343d6-b7e7-4df2-8a8b-4f5d8d9c5816",
        "colab": {
          "base_uri": "https://localhost:8080/",
          "height": 295
        }
      },
      "source": [
        "#plotting loss\n",
        "loss = historyL_c3d.history['loss']\n",
        "val_loss = historyL_c3d.history['val_loss']\n",
        "\n",
        "epochs = range(1,len(loss)+1)\n",
        "\n",
        "plt.figure()\n",
        "plt.plot(epochs,loss,'bo',label='Training loss')\n",
        "plt.plot(epochs,val_loss,'b',label='Validation loss')\n",
        "plt.title('Training and validation loss')\n",
        "plt.xlabel('Epochs')\n",
        "plt.ylabel('Loss')\n",
        "plt.legend()\n",
        "plt.show()"
      ],
      "execution_count": 0,
      "outputs": [
        {
          "output_type": "display_data",
          "data": {
            "image/png": "[encoded data removed]",
            "text/plain": [
              "<Figure size 432x288 with 1 Axes>"
            ]
          },
          "metadata": {
            "tags": []
          }
        }
      ]
    },
    {
      "cell_type": "code",
      "metadata": {
        "id": "TIrhyBUztc-s",
        "colab_type": "code",
        "colab": {}
      },
      "source": [
        "#predicting the validation set\n",
        "YL_pred_c3d = modelL_c3d.predict(XL_val_c3d)"
      ],
      "execution_count": 0,
      "outputs": []
    },
    {
      "cell_type": "code",
      "metadata": {
        "id": "f_yjP6tEthr-",
        "colab_type": "code",
        "outputId": "883870fd-63c2-4283-dafc-19c9ed8d44a9",
        "colab": {
          "base_uri": "https://localhost:8080/",
          "height": 51
        }
      },
      "source": [
        "print('Evaluation Scores')\n",
        "Get_score(YL_pred_c3d,YL_val)"
      ],
      "execution_count": 0,
      "outputs": [
        {
          "output_type": "stream",
          "text": [
            "Evaluation Scores\n",
            "The Spearman's correlation coefficient is: 0.050\n"
          ],
          "name": "stdout"
        }
      ]
    },
    {
      "cell_type": "markdown",
      "metadata": {
        "id": "CV_sw-76vEPd",
        "colab_type": "text"
      },
      "source": [
        "##Caption Features - DevTest"
      ]
    },
    {
      "cell_type": "code",
      "metadata": {
        "id": "dKRahw6ovVe-",
        "colab_type": "code",
        "colab": {}
      },
      "source": [
        "#splitting the data into train and validation sets\n",
        "XL_caps = padded_docs;\n",
        "YL = labels[['long-term_memorability']].values\n",
        "XL_train_caps, XL_val_caps, YL_train, YL_val = train_test_split(XL_caps,YL, test_size=0.2, random_state= seed_val)"
      ],
      "execution_count": 0,
      "outputs": []
    },
    {
      "cell_type": "code",
      "metadata": {
        "id": "wu56li6Ew9Ky",
        "colab_type": "code",
        "outputId": "01e3343f-7196-4f28-9cf0-7086e91ed337",
        "colab": {
          "base_uri": "https://localhost:8080/",
          "height": 51
        }
      },
      "source": [
        "print(\"X_train = %.f\" % len(XL_train_caps))\n",
        "print(\"X_val = %.f\" % len(XL_val_caps))"
      ],
      "execution_count": 0,
      "outputs": [
        {
          "output_type": "stream",
          "text": [
            "X_train = 4800\n",
            "X_val = 1200\n"
          ],
          "name": "stdout"
        }
      ]
    },
    {
      "cell_type": "code",
      "metadata": {
        "id": "NgHLdpxuxJY2",
        "colab_type": "code",
        "outputId": "7b24cd0f-ea3e-4cdf-f43d-6f0f262c1d3c",
        "colab": {
          "base_uri": "https://localhost:8080/",
          "height": 340
        }
      },
      "source": [
        "#configuring the Kerass Embedding model\n",
        "modelL_glove = Sequential()\n",
        "modelL_glove.add(Embedding(vocab_size, 100, weights=[embedding_matrix],input_length=max_length, embeddings_initializer=Constant(embedding_matrix)))\n",
        "modelL_glove.add(SpatialDropout1D(0.01))\n",
        "modelL_glove.add(Bidirectional(CuDNNLSTM(64, return_sequences=True)))\n",
        "modelL_glove.add(Bidirectional(CuDNNLSTM(32)))\n",
        "modelL_glove.add(Dropout(0.01))\n",
        "modelL_glove.add(layers.Dense(1,activation='selu'))\n",
        "modelL_glove.summary()"
      ],
      "execution_count": 0,
      "outputs": [
        {
          "output_type": "stream",
          "text": [
            "_________________________________________________________________\n",
            "Layer (type)                 Output Shape              Param #   \n",
            "=================================================================\n",
            "embedding_3 (Embedding)      (None, 50, 100)           509900    \n",
            "_________________________________________________________________\n",
            "spatial_dropout1d_3 (Spatial (None, 50, 100)           0         \n",
            "_________________________________________________________________\n",
            "bidirectional_3 (Bidirection (None, 50, 128)           84992     \n",
            "_________________________________________________________________\n",
            "bidirectional_4 (Bidirection (None, 64)                41472     \n",
            "_________________________________________________________________\n",
            "dropout_17 (Dropout)         (None, 64)                0         \n",
            "_________________________________________________________________\n",
            "dense_21 (Dense)             (None, 1)                 65        \n",
            "=================================================================\n",
            "Total params: 636,429\n",
            "Trainable params: 636,429\n",
            "Non-trainable params: 0\n",
            "_________________________________________________________________\n"
          ],
          "name": "stdout"
        }
      ]
    },
    {
      "cell_type": "code",
      "metadata": {
        "id": "-tM5SqNtxRkW",
        "colab_type": "code",
        "outputId": "91dca6ef-9443-4d37-f847-cc1d31eba9c0",
        "colab": {
          "base_uri": "https://localhost:8080/",
          "height": 1054
        }
      },
      "source": [
        "# compile the model \n",
        "#model_glove.compile(optimizer=keras.optimizers.RMSprop(lr=1e-3),loss='mae',metrics=['accuracy'])\n",
        "#adagrad = keras.optimizers.Adagrad(lr=0.001, epsilon=None, decay=0.0)\n",
        "# #model.compile(optimizer=keras.optimizers.RMSprop(lr=1e-3),loss='mae',metrics=['accuracy'])\n",
        "# model.compile(optimizer=\"rmsprop\",loss='mse',metrics=['accuracy'])\n",
        "opt = optimizers.RMSprop(lr=0.01, rho=0.89, epsilon=None, decay=0.0)\n",
        "modelL_glove.compile(optimizer=opt,loss='mse')\n",
        "\n",
        "# training the model \n",
        "historyL_glove = modelL_glove.fit(XL_train_caps,YL_train,epochs=30, validation_data=(XL_val_caps,YL_val))\n"
      ],
      "execution_count": 0,
      "outputs": [
        {
          "output_type": "stream",
          "text": [
            "Train on 4800 samples, validate on 1200 samples\n",
            "Epoch 1/30\n",
            "4800/4800 [==============================] - 4s 837us/step - loss: 0.0813 - val_loss: 0.0480\n",
            "Epoch 2/30\n",
            "4800/4800 [==============================] - 2s 516us/step - loss: 0.0239 - val_loss: 0.0198\n",
            "Epoch 3/30\n",
            "4800/4800 [==============================] - 2s 512us/step - loss: 0.0203 - val_loss: 0.0201\n",
            "Epoch 4/30\n",
            "4800/4800 [==============================] - 2s 512us/step - loss: 0.0173 - val_loss: 0.0218\n",
            "Epoch 5/30\n",
            "4800/4800 [==============================] - 2s 511us/step - loss: 0.0155 - val_loss: 0.0257\n",
            "Epoch 6/30\n",
            "4800/4800 [==============================] - 2s 511us/step - loss: 0.0128 - val_loss: 0.0241\n",
            "Epoch 7/30\n",
            "4800/4800 [==============================] - 2s 513us/step - loss: 0.0107 - val_loss: 0.0245\n",
            "Epoch 8/30\n",
            "4800/4800 [==============================] - 2s 511us/step - loss: 0.0095 - val_loss: 0.0252\n",
            "Epoch 9/30\n",
            "4800/4800 [==============================] - 2s 516us/step - loss: 0.0087 - val_loss: 0.0275\n",
            "Epoch 10/30\n",
            "4800/4800 [==============================] - 2s 512us/step - loss: 0.0076 - val_loss: 0.0266\n",
            "Epoch 11/30\n",
            "4800/4800 [==============================] - 2s 513us/step - loss: 0.0071 - val_loss: 0.0281\n",
            "Epoch 12/30\n",
            "4800/4800 [==============================] - 2s 517us/step - loss: 0.0065 - val_loss: 0.0263\n",
            "Epoch 13/30\n",
            "4800/4800 [==============================] - 2s 510us/step - loss: 0.0063 - val_loss: 0.0291\n",
            "Epoch 14/30\n",
            "4800/4800 [==============================] - 2s 512us/step - loss: 0.0057 - val_loss: 0.0275\n",
            "Epoch 15/30\n",
            "4800/4800 [==============================] - 2s 513us/step - loss: 0.0054 - val_loss: 0.0296\n",
            "Epoch 16/30\n",
            "4800/4800 [==============================] - 2s 513us/step - loss: 0.0052 - val_loss: 0.0276\n",
            "Epoch 17/30\n",
            "4800/4800 [==============================] - 2s 514us/step - loss: 0.0049 - val_loss: 0.0274\n",
            "Epoch 18/30\n",
            "4800/4800 [==============================] - 3s 590us/step - loss: 0.0046 - val_loss: 0.0282\n",
            "Epoch 19/30\n",
            "4800/4800 [==============================] - 3s 594us/step - loss: 0.0045 - val_loss: 0.0282\n",
            "Epoch 20/30\n",
            "4800/4800 [==============================] - 3s 596us/step - loss: 0.0044 - val_loss: 0.0271\n",
            "Epoch 21/30\n",
            "4800/4800 [==============================] - 3s 556us/step - loss: 0.0042 - val_loss: 0.0280\n",
            "Epoch 22/30\n",
            "4800/4800 [==============================] - 2s 511us/step - loss: 0.0040 - val_loss: 0.0269\n",
            "Epoch 23/30\n",
            "4800/4800 [==============================] - 2s 513us/step - loss: 0.0040 - val_loss: 0.0273\n",
            "Epoch 24/30\n",
            "4800/4800 [==============================] - 2s 512us/step - loss: 0.0038 - val_loss: 0.0278\n",
            "Epoch 25/30\n",
            "4800/4800 [==============================] - 2s 510us/step - loss: 0.0037 - val_loss: 0.0295\n",
            "Epoch 26/30\n",
            "4800/4800 [==============================] - 2s 511us/step - loss: 0.0037 - val_loss: 0.0265\n",
            "Epoch 27/30\n",
            "4800/4800 [==============================] - 2s 512us/step - loss: 0.0036 - val_loss: 0.0261\n",
            "Epoch 28/30\n",
            "4800/4800 [==============================] - 2s 512us/step - loss: 0.0036 - val_loss: 0.0263\n",
            "Epoch 29/30\n",
            "4800/4800 [==============================] - 2s 515us/step - loss: 0.0036 - val_loss: 0.0267\n",
            "Epoch 30/30\n",
            "4800/4800 [==============================] - 2s 512us/step - loss: 0.0035 - val_loss: 0.0262\n"
          ],
          "name": "stdout"
        }
      ]
    },
    {
      "cell_type": "code",
      "metadata": {
        "id": "sOS5WMcLxYzj",
        "colab_type": "code",
        "outputId": "7d260d7c-4a12-47d0-edec-d235e8cc259a",
        "colab": {
          "base_uri": "https://localhost:8080/",
          "height": 295
        }
      },
      "source": [
        "#visualizing the model\n",
        "loss = historyL_glove.history['loss']\n",
        "val_loss = historyL_glove.history['val_loss']\n",
        "\n",
        "epochs = range(1,len(loss)+1)\n",
        "\n",
        "plt.plot(epochs,loss,'bo',label='Training loss')\n",
        "plt.plot(epochs,val_loss,'b',label='Validation loss')\n",
        "plt.title('Training and validation loss')\n",
        "plt.xlabel('Epochs')\n",
        "plt.ylabel('Loss')\n",
        "plt.legend()\n",
        "plt.show()"
      ],
      "execution_count": 0,
      "outputs": [
        {
          "output_type": "display_data",
          "data": {
            "image/png": "[encoded data removed]",
            "text/plain": [
              "<Figure size 432x288 with 1 Axes>"
            ]
          },
          "metadata": {
            "tags": []
          }
        }
      ]
    },
    {
      "cell_type": "code",
      "metadata": {
        "id": "uhtq-N92xcsS",
        "colab_type": "code",
        "colab": {}
      },
      "source": [
        "#predicting the short term memorability scores\n",
        "YL_pred_val_caps = modelL_glove.predict(XL_val_caps)"
      ],
      "execution_count": 0,
      "outputs": []
    },
    {
      "cell_type": "code",
      "metadata": {
        "id": "uETlRiTkxgQy",
        "colab_type": "code",
        "outputId": "a95e7343-cfd5-4ab2-f42d-c2ce27108135",
        "colab": {
          "base_uri": "https://localhost:8080/",
          "height": 51
        }
      },
      "source": [
        "print('Evaluation Scores')\n",
        "Get_score(YL_pred_val_caps,YL_val)"
      ],
      "execution_count": 0,
      "outputs": [
        {
          "output_type": "stream",
          "text": [
            "Evaluation Scores\n",
            "The Spearman's correlation coefficient is: 0.129\n"
          ],
          "name": "stdout"
        }
      ]
    },
    {
      "cell_type": "markdown",
      "metadata": {
        "id": "lBNiWmSexlVI",
        "colab_type": "text"
      },
      "source": [
        "## Combined 3 Models - DevTest"
      ]
    },
    {
      "cell_type": "code",
      "metadata": {
        "id": "tAT8SmnfxxoH",
        "colab_type": "code",
        "outputId": "033a4fc3-fac9-41c6-b403-cd1e8ce9ad0a",
        "colab": {
          "base_uri": "https://localhost:8080/",
          "height": 34
        }
      },
      "source": [
        "#features outputs\n",
        "YL_pred_val_avg = (YL_pred_val_caps+YL_pred_c3d+YL_pred_val_HMP)/3\n",
        "Get_score(YL_pred_val_avg,Y_val)"
      ],
      "execution_count": 0,
      "outputs": [
        {
          "output_type": "stream",
          "text": [
            "The Spearman's correlation coefficient is: 0.239\n"
          ],
          "name": "stdout"
        }
      ]
    },
    {
      "cell_type": "code",
      "metadata": {
        "id": "Mf64M1dutF4D",
        "colab_type": "code",
        "colab": {}
      },
      "source": [
        "#weighted feature outputs\n",
        "YL_pred_val_caps_weighted = YL_pred_val_caps*0.70\n",
        "YL_pred_c3d_weighted = YL_pred_c3d*0.10\n",
        "YL_pred_val_HMP_weighted = YL_pred_val_HMP*0.20\n",
        "YL_pred_val_avg_weighted = YL_pred_val_caps_weighted+YL_pred_c3d_weighted+YL_pred_val_HMP_weighted"
      ],
      "execution_count": 0,
      "outputs": []
    },
    {
      "cell_type": "code",
      "metadata": {
        "id": "-CeUtB5ytasn",
        "colab_type": "code",
        "outputId": "3f285544-d6f6-4ff0-e394-2332f7132a5c",
        "colab": {
          "base_uri": "https://localhost:8080/",
          "height": 34
        }
      },
      "source": [
        "Get_score(YL_pred_val_avg_weighted,Y_val)"
      ],
      "execution_count": 0,
      "outputs": [
        {
          "output_type": "stream",
          "text": [
            "The Spearman's correlation coefficient is: 0.226\n"
          ],
          "name": "stdout"
        }
      ]
    },
    {
      "cell_type": "markdown",
      "metadata": {
        "id": "IcuOg7CMzVmP",
        "colab_type": "text"
      },
      "source": [
        "## Final Model\n",
        "\n",
        "---\n",
        "\n",
        "\n",
        "\n",
        "---\n",
        "\n",
        "After the Dev-Test, all the available data is used to train the three models. This is the model that is used to predict scores in the 2000 records of withheld test data."
      ]
    },
    {
      "cell_type": "code",
      "metadata": {
        "id": "QwKWKb0yzX2-",
        "colab_type": "code",
        "outputId": "85c2edc1-e14a-4f47-9476-cf6fdf7910a2",
        "colab": {
          "base_uri": "https://localhost:8080/",
          "height": 34
        }
      },
      "source": [
        "#final HMP model\n",
        "model_HMPL.fit(x=XL_HMP,y=YL,batch_size=50,epochs=40,shuffle=True,verbose=False)\n",
        "#saving final HMP model\n",
        "#final_modelL_HMP.save(\"final_modelL_HMP.h5\")"
      ],
      "execution_count": 0,
      "outputs": [
        {
          "output_type": "execute_result",
          "data": {
            "text/plain": [
              "<keras.callbacks.History at 0x7f2e4754f400>"
            ]
          },
          "metadata": {
            "tags": []
          },
          "execution_count": 155
        }
      ]
    },
    {
      "cell_type": "code",
      "metadata": {
        "id": "OAX5eGhYzpb0",
        "colab_type": "code",
        "outputId": "de7d82f5-eb9b-4ef4-b7e5-daa464758a84",
        "colab": {
          "base_uri": "https://localhost:8080/",
          "height": 34
        }
      },
      "source": [
        "#final C3D model\n",
        "modelL_c3d.fit(x=XL_c3d,y=YL,epochs=15, shuffle=True,verbose=False)\n",
        "#saving final C3d model\n",
        "#final_modelL_c3d.save(\"final_modelL_c3d.h5\")"
      ],
      "execution_count": 0,
      "outputs": [
        {
          "output_type": "execute_result",
          "data": {
            "text/plain": [
              "<keras.callbacks.History at 0x7f2e47569e80>"
            ]
          },
          "metadata": {
            "tags": []
          },
          "execution_count": 156
        }
      ]
    },
    {
      "cell_type": "code",
      "metadata": {
        "id": "-qGgC7J2zxWt",
        "colab_type": "code",
        "outputId": "e4eb5c62-3ab4-469f-b5b9-41dc79d2bc04",
        "colab": {
          "base_uri": "https://localhost:8080/",
          "height": 544
        }
      },
      "source": [
        "#final Captions model\n",
        "modelL_glove.fit(XL_caps,YL,epochs=15)\n",
        "#saving final captions model\n",
        "#final_modelL_glove.save(\"final_modelL_glove.h5\")"
      ],
      "execution_count": 0,
      "outputs": [
        {
          "output_type": "stream",
          "text": [
            "Epoch 1/15\n",
            "6000/6000 [==============================] - 3s 488us/step - loss: 0.0039\n",
            "Epoch 2/15\n",
            "6000/6000 [==============================] - 3s 542us/step - loss: 0.0038\n",
            "Epoch 3/15\n",
            "6000/6000 [==============================] - 3s 540us/step - loss: 0.0038\n",
            "Epoch 4/15\n",
            "6000/6000 [==============================] - 3s 540us/step - loss: 0.0038\n",
            "Epoch 5/15\n",
            "6000/6000 [==============================] - 3s 470us/step - loss: 0.0038\n",
            "Epoch 6/15\n",
            "6000/6000 [==============================] - 3s 468us/step - loss: 0.0037\n",
            "Epoch 7/15\n",
            "6000/6000 [==============================] - 3s 476us/step - loss: 0.0037\n",
            "Epoch 8/15\n",
            "6000/6000 [==============================] - 3s 471us/step - loss: 0.0037\n",
            "Epoch 9/15\n",
            "6000/6000 [==============================] - 3s 472us/step - loss: 0.0036\n",
            "Epoch 10/15\n",
            "6000/6000 [==============================] - 3s 471us/step - loss: 0.0036\n",
            "Epoch 11/15\n",
            "6000/6000 [==============================] - 3s 471us/step - loss: 0.0037\n",
            "Epoch 12/15\n",
            "6000/6000 [==============================] - 3s 469us/step - loss: 0.0036\n",
            "Epoch 13/15\n",
            "6000/6000 [==============================] - 3s 470us/step - loss: 0.0036\n",
            "Epoch 14/15\n",
            "6000/6000 [==============================] - 3s 474us/step - loss: 0.0036\n",
            "Epoch 15/15\n",
            "6000/6000 [==============================] - 3s 473us/step - loss: 0.0036\n"
          ],
          "name": "stdout"
        },
        {
          "output_type": "execute_result",
          "data": {
            "text/plain": [
              "<keras.callbacks.History at 0x7f2e47569320>"
            ]
          },
          "metadata": {
            "tags": []
          },
          "execution_count": 157
        }
      ]
    },
    {
      "cell_type": "markdown",
      "metadata": {
        "id": "dr8CgWg01l-h",
        "colab_type": "text"
      },
      "source": [
        "\n",
        "\n",
        "---\n",
        "\n",
        "\n",
        "\n",
        "---\n",
        "\n",
        "\n",
        "#Assignment Test Set\n",
        "\n",
        "\n",
        "---\n",
        "The test data consisting of 2K videos are imported and the memorability scores predicted\n"
      ]
    },
    {
      "cell_type": "markdown",
      "metadata": {
        "id": "F96aVAiU3Gtl",
        "colab_type": "text"
      },
      "source": [
        "## Importing Test data and preparing"
      ]
    },
    {
      "cell_type": "code",
      "metadata": {
        "id": "rMiGX9Br3PMK",
        "colab_type": "code",
        "outputId": "2082ce87-6136-4d69-af5b-8eeecd2de099",
        "colab": {
          "base_uri": "https://localhost:8080/",
          "height": 51
        }
      },
      "source": [
        "######reading in the 2K test set\n",
        "test2k_set_path = '/content/drive/My Drive/CA684ML/'\n",
        "test2k_set=pd.read_csv(test2k_set_path+'test-set-video-names.csv')\n",
        "\n",
        "os.chdir('/content/drive/My Drive/CA684ML/test-set/')\n",
        "Feat2K_path = '/content/drive/My Drive/CA684ML/test-set/'\n",
        "vid_t = test2k_set.video.values\n",
        "\n",
        "#####HMP 2K test set\n",
        "Features2K_HMP = pd.DataFrame({'video': vid_t,'HMP': [read_HMP(Feat2K_path+'HMP'+'/'+os.path.splitext(item)[0]+'.txt') for item in vid_t],})\n",
        "X_2K_HMP = np.stack(Features2K_HMP['HMP'].values)\n",
        "\n",
        "\n",
        "#####C3D 2K test set\n",
        "Features2K_c3d = pd.DataFrame({'video': vid_t,\n",
        "                   'C3D': [read_C3D(Feat2K_path+'C3D'+'/'+os.path.splitext(item)[0]+'.txt') for item in vid_t],\n",
        "                       })\n",
        "X_2K_c3d = np.stack(Features2K_c3d['C3D'].values)\n",
        "\n",
        "######Caption 2K features\n",
        "\n",
        "cap_path_2K = '/content/drive/My Drive/CA684ML/test-set/test-set-1_video-captions.txt'\n",
        "df_2Kcap=read_caps(cap_path_2K)\n",
        "                 \n",
        "# basic cleaning of the text\n",
        "nltk.download('stopwords')\n",
        "from nltk.corpus import stopwords\n",
        "df_2Kcap.caption = df_2Kcap.caption.apply(lambda x: x.replace('-', ' '))\n",
        "df_2Kcap.caption = df_2Kcap.caption.apply(lambda x: ' '.join([item for item in x.split() if item not in stopwords.words(\"english\")]))\n",
        "\n",
        "#counting the words\n",
        "counts2K = Counter()\n",
        "len(df_2Kcap['caption'])\n",
        "for i, cap in enumerate(df_2Kcap['caption']):\n",
        "    text = ''.join([c if c not in punctuation else ' ' for c in cap]).lower()\n",
        "    df_2Kcap.loc[i,'caption'] = text\n",
        "    counts2K.update(text.split())\n",
        "\n",
        "# build the word index\n",
        "len_token2K = len(counts2K)\n",
        "tokenizer = Tokenizer(num_words=len_token2K)\n",
        "                 \n",
        "#tokenizing and sequencing the text\n",
        "tokenizer.fit_on_texts(list(df_2Kcap.caption.values))  \n",
        "sequences_2K = tokenizer.texts_to_sequences(list(df_2Kcap.caption.values))\n",
        "                 \n",
        "#padding the words to the maximum length such that dimensions are uniform\n",
        "vocab_size_2K = len(tokenizer.word_index) + 1\n",
        "max_length = 50\n",
        "padded_docs_2K = pad_sequences(sequences_2K, maxlen=max_length, padding='post')\n",
        "                 \n",
        "#building the dictionary with pretrained Google GloVe features\n",
        "embeddings_index_2K = dict()\n",
        "f = open('/content/drive/My Drive/CA684ML/glove.6B/glove.6B.100d.txt')\n",
        "for line in f:\n",
        "\tvalues = line.split()\n",
        "\tword = values[0]\n",
        "\tcoefs = asarray(values[1:], dtype='float32')\n",
        "\tembeddings_index_2K[word] = coefs\n",
        "f.close()\n",
        "                 \n",
        "#creating embedding matrix\n",
        "embedding_matrix_2K = np.zeros(shape=(vocab_size_2K, 100))\n",
        "for word, i in tokenizer.word_index.items():\n",
        "\tembedding_vector_2K = embeddings_index_2K.get(word)\n",
        "\tif embedding_vector_2K is not None:\n",
        "\t\tembedding_matrix_2K[i] = embedding_vector_2K\n",
        "\n",
        "#Final data\n",
        "X_2K_caps = padded_docs_2K"
      ],
      "execution_count": 0,
      "outputs": [
        {
          "output_type": "stream",
          "text": [
            "[nltk_data] Downloading package stopwords to /root/nltk_data...\n",
            "[nltk_data]   Package stopwords is already up-to-date!\n"
          ],
          "name": "stdout"
        }
      ]
    },
    {
      "cell_type": "markdown",
      "metadata": {
        "id": "ilcKFafW2MO1",
        "colab_type": "text"
      },
      "source": [
        "##Short-Term Memorability Predictions"
      ]
    },
    {
      "cell_type": "code",
      "metadata": {
        "id": "Jsq0qdrD78-T",
        "colab_type": "code",
        "colab": {}
      },
      "source": [
        "#c3d prediction\n",
        "Y_pred_test2k_HMP = model_HMP.predict(X_2K_HMP)"
      ],
      "execution_count": 0,
      "outputs": []
    },
    {
      "cell_type": "code",
      "metadata": {
        "id": "7GQcgTfE4iGp",
        "colab_type": "code",
        "colab": {}
      },
      "source": [
        "#HMP predictions\n",
        "Y_pred_test2k_c3d = model_c3d.predict(X_2K_c3d)"
      ],
      "execution_count": 0,
      "outputs": []
    },
    {
      "cell_type": "code",
      "metadata": {
        "id": "CgisC-z6bJkn",
        "colab_type": "code",
        "colab": {}
      },
      "source": [
        "#Caption prediction\n",
        "Y_pred_test2k_caps = model_glove.predict(X_2K_caps)"
      ],
      "execution_count": 0,
      "outputs": []
    },
    {
      "cell_type": "code",
      "metadata": {
        "id": "Dw0i1IjIwfX-",
        "colab_type": "code",
        "colab": {}
      },
      "source": [
        "#weighted feature output\n",
        "Y_pred_test2k_caps_weighted = Y_pred_test2k_caps*0.70\n",
        "Y_pred_test2k_c3d_weighted = Y_pred_test2k_c3d*0.10\n",
        "Y_pred_test2k_HMP_weighted = Y_pred_test2k_HMP*0.20\n",
        "Test_2k_STscore = Y_pred_test2k_caps_weighted+Y_pred_test2k_c3d_weighted+Y_pred_test2k_HMP_weighted"
      ],
      "execution_count": 0,
      "outputs": []
    },
    {
      "cell_type": "code",
      "metadata": {
        "id": "h62HZgG7xJY_",
        "colab_type": "code",
        "outputId": "45851ec8-3127-4439-ed64-7b5dfef5b209",
        "colab": {
          "base_uri": "https://localhost:8080/",
          "height": 204
        }
      },
      "source": [
        "#scores to df\n",
        "test2k_set[\"short-term_memorability\"] = Test_2k_STscore"
      ],
      "execution_count": 0,
      "outputs": [
        {
          "output_type": "execute_result",
          "data": {
            "text/html": [
              "<div>\n",
              "<style scoped>\n",
              "    .dataframe tbody tr th:only-of-type {\n",
              "        vertical-align: middle;\n",
              "    }\n",
              "\n",
              "    .dataframe tbody tr th {\n",
              "        vertical-align: top;\n",
              "    }\n",
              "\n",
              "    .dataframe thead th {\n",
              "        text-align: right;\n",
              "    }\n",
              "</style>\n",
              "<table border=\"1\" class=\"dataframe\">\n",
              "  <thead>\n",
              "    <tr style=\"text-align: right;\">\n",
              "      <th></th>\n",
              "      <th>video</th>\n",
              "      <th>short-term_memorability</th>\n",
              "    </tr>\n",
              "  </thead>\n",
              "  <tbody>\n",
              "    <tr>\n",
              "      <th>0</th>\n",
              "      <td>video7494.webm</td>\n",
              "      <td>0.854572</td>\n",
              "    </tr>\n",
              "    <tr>\n",
              "      <th>1</th>\n",
              "      <td>video7495.webm</td>\n",
              "      <td>0.865329</td>\n",
              "    </tr>\n",
              "    <tr>\n",
              "      <th>2</th>\n",
              "      <td>video7496.webm</td>\n",
              "      <td>0.853679</td>\n",
              "    </tr>\n",
              "    <tr>\n",
              "      <th>3</th>\n",
              "      <td>video7497.webm</td>\n",
              "      <td>0.881626</td>\n",
              "    </tr>\n",
              "    <tr>\n",
              "      <th>4</th>\n",
              "      <td>video7498.webm</td>\n",
              "      <td>0.780802</td>\n",
              "    </tr>\n",
              "  </tbody>\n",
              "</table>\n",
              "</div>"
            ],
            "text/plain": [
              "            video  short-term_memorability\n",
              "0  video7494.webm                 0.854572\n",
              "1  video7495.webm                 0.865329\n",
              "2  video7496.webm                 0.853679\n",
              "3  video7497.webm                 0.881626\n",
              "4  video7498.webm                 0.780802"
            ]
          },
          "metadata": {
            "tags": []
          },
          "execution_count": 188
        }
      ]
    },
    {
      "cell_type": "markdown",
      "metadata": {
        "id": "TqQswPMP2Swt",
        "colab_type": "text"
      },
      "source": [
        "##Long-Term Memorability Predictions"
      ]
    },
    {
      "cell_type": "code",
      "metadata": {
        "id": "_mfh3oEF28s4",
        "colab_type": "code",
        "colab": {}
      },
      "source": [
        "#c3d prediction\n",
        "YL_pred_test2k_HMP = model_HMPL.predict(X_2K_HMP)"
      ],
      "execution_count": 0,
      "outputs": []
    },
    {
      "cell_type": "code",
      "metadata": {
        "id": "d7pN1iNL29-A",
        "colab_type": "code",
        "colab": {}
      },
      "source": [
        "#HMP predictions\n",
        "YL_pred_test2k_c3d = modelL_c3d.predict(X_2K_c3d)"
      ],
      "execution_count": 0,
      "outputs": []
    },
    {
      "cell_type": "code",
      "metadata": {
        "id": "6v4NCyCJ2_CQ",
        "colab_type": "code",
        "colab": {}
      },
      "source": [
        "#Caption prediction\n",
        "YL_pred_test2k_caps = modelL_glove.predict(X_2K_caps)"
      ],
      "execution_count": 0,
      "outputs": []
    },
    {
      "cell_type": "code",
      "metadata": {
        "id": "PXQOV-s0xG0r",
        "colab_type": "code",
        "colab": {}
      },
      "source": [
        "#weighted scores\n",
        "YL_pred_test2k_caps_weighted = YL_pred_test2k_caps*0.70\n",
        "YL_pred_test2k_c3d_weighted = YL_pred_test2k_c3d*0.10\n",
        "YL_pred_test2k_HMP_weighted = YL_pred_test2k_HMP*0.20\n",
        "Test_2k_LTscore = YL_pred_test2k_caps_weighted+YL_pred_test2k_c3d_weighted+YL_pred_test2k_HMP_weighted"
      ],
      "execution_count": 0,
      "outputs": []
    },
    {
      "cell_type": "code",
      "metadata": {
        "id": "ceUaLLZD23D2",
        "colab_type": "code",
        "colab": {}
      },
      "source": [
        "#scores to df\n",
        "test2k_set[\"long-term_memorability\"] = Test_2k_LTscore"
      ],
      "execution_count": 0,
      "outputs": []
    },
    {
      "cell_type": "code",
      "metadata": {
        "id": "qQ24p6_23W7l",
        "colab_type": "code",
        "outputId": "5c728bd4-81ff-4772-e2c2-2c2dd2aca390",
        "colab": {
          "base_uri": "https://localhost:8080/",
          "height": 204
        }
      },
      "source": [
        "test2k_set.head()"
      ],
      "execution_count": 0,
      "outputs": [
        {
          "output_type": "execute_result",
          "data": {
            "text/html": [
              "<div>\n",
              "<style scoped>\n",
              "    .dataframe tbody tr th:only-of-type {\n",
              "        vertical-align: middle;\n",
              "    }\n",
              "\n",
              "    .dataframe tbody tr th {\n",
              "        vertical-align: top;\n",
              "    }\n",
              "\n",
              "    .dataframe thead th {\n",
              "        text-align: right;\n",
              "    }\n",
              "</style>\n",
              "<table border=\"1\" class=\"dataframe\">\n",
              "  <thead>\n",
              "    <tr style=\"text-align: right;\">\n",
              "      <th></th>\n",
              "      <th>video</th>\n",
              "      <th>short-term_memorability</th>\n",
              "      <th>long-term_memorability</th>\n",
              "    </tr>\n",
              "  </thead>\n",
              "  <tbody>\n",
              "    <tr>\n",
              "      <th>0</th>\n",
              "      <td>video7494.webm</td>\n",
              "      <td>0.854572</td>\n",
              "      <td>0.853208</td>\n",
              "    </tr>\n",
              "    <tr>\n",
              "      <th>1</th>\n",
              "      <td>video7495.webm</td>\n",
              "      <td>0.865329</td>\n",
              "      <td>0.831886</td>\n",
              "    </tr>\n",
              "    <tr>\n",
              "      <th>2</th>\n",
              "      <td>video7496.webm</td>\n",
              "      <td>0.853679</td>\n",
              "      <td>0.811996</td>\n",
              "    </tr>\n",
              "    <tr>\n",
              "      <th>3</th>\n",
              "      <td>video7497.webm</td>\n",
              "      <td>0.881626</td>\n",
              "      <td>0.798785</td>\n",
              "    </tr>\n",
              "    <tr>\n",
              "      <th>4</th>\n",
              "      <td>video7498.webm</td>\n",
              "      <td>0.780802</td>\n",
              "      <td>0.777111</td>\n",
              "    </tr>\n",
              "  </tbody>\n",
              "</table>\n",
              "</div>"
            ],
            "text/plain": [
              "            video  short-term_memorability  long-term_memorability\n",
              "0  video7494.webm                 0.854572                0.853208\n",
              "1  video7495.webm                 0.865329                0.831886\n",
              "2  video7496.webm                 0.853679                0.811996\n",
              "3  video7497.webm                 0.881626                0.798785\n",
              "4  video7498.webm                 0.780802                0.777111"
            ]
          },
          "metadata": {
            "tags": []
          },
          "execution_count": 203
        }
      ]
    },
    {
      "cell_type": "code",
      "metadata": {
        "id": "XSsDOJm13agX",
        "colab_type": "code",
        "colab": {}
      },
      "source": [
        "#writing to csv\n",
        "test2k_set.to_csv('memorabilityscores.csv', index = False)"
      ],
      "execution_count": 0,
      "outputs": []
    }
  ]
}